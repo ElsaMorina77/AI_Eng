{
 "cells": [
  {
   "cell_type": "code",
   "execution_count": 1,
   "id": "e4d4487f-d699-4913-bc06-00cf931e86d5",
   "metadata": {},
   "outputs": [
    {
     "name": "stdout",
     "output_type": "stream",
     "text": [
      "Requirement already satisfied: textblob in /opt/anaconda3/envs/hf-env/lib/python3.11/site-packages (0.19.0)\n",
      "Requirement already satisfied: nltk>=3.9 in /opt/anaconda3/envs/hf-env/lib/python3.11/site-packages (from textblob) (3.9.1)\n",
      "Requirement already satisfied: click in /opt/anaconda3/envs/hf-env/lib/python3.11/site-packages (from nltk>=3.9->textblob) (8.2.1)\n",
      "Requirement already satisfied: joblib in /opt/anaconda3/envs/hf-env/lib/python3.11/site-packages (from nltk>=3.9->textblob) (1.5.1)\n",
      "Requirement already satisfied: regex>=2021.8.3 in /opt/anaconda3/envs/hf-env/lib/python3.11/site-packages (from nltk>=3.9->textblob) (2024.11.6)\n",
      "Requirement already satisfied: tqdm in /opt/anaconda3/envs/hf-env/lib/python3.11/site-packages (from nltk>=3.9->textblob) (4.67.1)\n",
      "Note: you may need to restart the kernel to use updated packages.\n"
     ]
    }
   ],
   "source": [
    "pip install textblob"
   ]
  },
  {
   "cell_type": "markdown",
   "id": "c0b38ea0-a91e-4af7-85da-467910025af9",
   "metadata": {},
   "source": [
    "**TEXTBLOB**"
   ]
  },
  {
   "cell_type": "code",
   "execution_count": 2,
   "id": "cf80ef39-d071-4d63-a1e9-f5f0d889f95a",
   "metadata": {},
   "outputs": [],
   "source": [
    "from textblob import TextBlob"
   ]
  },
  {
   "cell_type": "code",
   "execution_count": 3,
   "id": "eaf27fc7-4ab4-4e0a-91b8-35d113848eaf",
   "metadata": {},
   "outputs": [],
   "source": [
    "sentence_1 = \"i had a great time at the movie it was really funny\"\n",
    "sentence_2 = \"i had a great time at the movie but the parking was terrible\"\n",
    "sentence_3 = \"i had a great time at the movie but the parking wasn't great\"\n",
    "sentence_4 = \"i went to see a movie\""
   ]
  },
  {
   "cell_type": "code",
   "execution_count": 4,
   "id": "04c39caf-5314-4257-aa22-dd1cc6ce54b2",
   "metadata": {},
   "outputs": [
    {
     "name": "stdout",
     "output_type": "stream",
     "text": [
      "i had a great time at the movie it was really funny\n",
      "0.525\n"
     ]
    }
   ],
   "source": [
    "print(sentence_1)\n",
    "sentiment_score_1 = TextBlob(sentence_1)\n",
    "print(sentiment_score_1.sentiment.polarity)"
   ]
  },
  {
   "cell_type": "code",
   "execution_count": 5,
   "id": "9a033eb3-e62c-43af-8450-33fb869f174e",
   "metadata": {},
   "outputs": [
    {
     "name": "stdout",
     "output_type": "stream",
     "text": [
      "i had a great time at the movie but the parking was terrible\n",
      "-0.09999999999999998\n"
     ]
    }
   ],
   "source": [
    "print(sentence_2)\n",
    "sentiment_score_2 = TextBlob(sentence_2)\n",
    "print(sentiment_score_2.sentiment.polarity)"
   ]
  },
  {
   "cell_type": "code",
   "execution_count": 6,
   "id": "ad34c8a8-30f2-40d8-ae6c-5268be889ead",
   "metadata": {},
   "outputs": [
    {
     "name": "stdout",
     "output_type": "stream",
     "text": [
      "i had a great time at the movie but the parking wasn't great\n",
      "0.8\n"
     ]
    }
   ],
   "source": [
    "print(sentence_3)\n",
    "sentiment_score_3 = TextBlob(sentence_3)\n",
    "print(sentiment_score_3.sentiment.polarity)"
   ]
  },
  {
   "cell_type": "code",
   "execution_count": 7,
   "id": "cda991d1-8fc3-42a8-b810-95abd125d6c2",
   "metadata": {},
   "outputs": [
    {
     "name": "stdout",
     "output_type": "stream",
     "text": [
      "i went to see a movie\n",
      "0.0\n"
     ]
    }
   ],
   "source": [
    "print(sentence_4)\n",
    "sentiment_score_4 = TextBlob(sentence_4)\n",
    "print(sentiment_score_4.sentiment.polarity)"
   ]
  },
  {
   "cell_type": "markdown",
   "id": "b98e8f56-3e7e-4e15-a903-5e2d1e075c79",
   "metadata": {},
   "source": [
    "**VADER**"
   ]
  },
  {
   "cell_type": "code",
   "execution_count": 8,
   "id": "f3eb2595-5e5c-4dd5-8d2e-cb3a34fb2a82",
   "metadata": {},
   "outputs": [
    {
     "name": "stdout",
     "output_type": "stream",
     "text": [
      "Requirement already satisfied: vaderSentiment in /opt/anaconda3/envs/hf-env/lib/python3.11/site-packages (3.3.2)\n",
      "Requirement already satisfied: requests in /opt/anaconda3/envs/hf-env/lib/python3.11/site-packages (from vaderSentiment) (2.32.4)\n",
      "Requirement already satisfied: charset_normalizer<4,>=2 in /opt/anaconda3/envs/hf-env/lib/python3.11/site-packages (from requests->vaderSentiment) (3.4.2)\n",
      "Requirement already satisfied: idna<4,>=2.5 in /opt/anaconda3/envs/hf-env/lib/python3.11/site-packages (from requests->vaderSentiment) (3.10)\n",
      "Requirement already satisfied: urllib3<3,>=1.21.1 in /opt/anaconda3/envs/hf-env/lib/python3.11/site-packages (from requests->vaderSentiment) (2.5.0)\n",
      "Requirement already satisfied: certifi>=2017.4.17 in /opt/anaconda3/envs/hf-env/lib/python3.11/site-packages (from requests->vaderSentiment) (2025.7.14)\n",
      "Note: you may need to restart the kernel to use updated packages.\n"
     ]
    }
   ],
   "source": [
    "pip install vaderSentiment"
   ]
  },
  {
   "cell_type": "code",
   "execution_count": 9,
   "id": "1fff385d-f0c4-4c11-b894-e651a493d078",
   "metadata": {},
   "outputs": [],
   "source": [
    "from vaderSentiment.vaderSentiment import SentimentIntensityAnalyzer"
   ]
  },
  {
   "cell_type": "code",
   "execution_count": 10,
   "id": "2bfd6da2-5fbd-41c0-a502-a876f3e2f8e6",
   "metadata": {},
   "outputs": [],
   "source": [
    "vaderSentiment = SentimentIntensityAnalyzer()"
   ]
  },
  {
   "cell_type": "code",
   "execution_count": 11,
   "id": "cc85be44-6e19-457b-8929-4e61b6a40e06",
   "metadata": {},
   "outputs": [
    {
     "name": "stdout",
     "output_type": "stream",
     "text": [
      "i had a great time at the movie it was really funny\n",
      "{'neg': 0.0, 'neu': 0.578, 'pos': 0.422, 'compound': 0.807}\n"
     ]
    }
   ],
   "source": [
    "print(sentence_1)\n",
    "print(vaderSentiment.polarity_scores(sentence_1))"
   ]
  },
  {
   "cell_type": "code",
   "execution_count": 12,
   "id": "c15831aa-ea34-4f36-8032-0c941d9a436d",
   "metadata": {},
   "outputs": [
    {
     "name": "stdout",
     "output_type": "stream",
     "text": [
      "i had a great time at the movie but the parking was terrible\n",
      "{'neg': 0.234, 'neu': 0.621, 'pos': 0.144, 'compound': -0.3818}\n"
     ]
    }
   ],
   "source": [
    "print(sentence_2)\n",
    "print(vaderSentiment.polarity_scores(sentence_2))"
   ]
  },
  {
   "cell_type": "code",
   "execution_count": 13,
   "id": "ac83a9e5-8ee1-42ef-9d7e-6db4cbc9ed0f",
   "metadata": {},
   "outputs": [
    {
     "name": "stdout",
     "output_type": "stream",
     "text": [
      "i had a great time at the movie but the parking wasn't great\n",
      "{'neg': 0.247, 'neu': 0.611, 'pos': 0.142, 'compound': -0.4387}\n"
     ]
    }
   ],
   "source": [
    "print(sentence_3)\n",
    "print(vaderSentiment.polarity_scores(sentence_3))"
   ]
  },
  {
   "cell_type": "code",
   "execution_count": 14,
   "id": "998ba028-1a3e-44f9-a9b6-60fc7ba56f70",
   "metadata": {},
   "outputs": [
    {
     "name": "stdout",
     "output_type": "stream",
     "text": [
      "i went to see a movie\n",
      "{'neg': 0.0, 'neu': 1.0, 'pos': 0.0, 'compound': 0.0}\n"
     ]
    }
   ],
   "source": [
    "print(sentence_4)\n",
    "print(vaderSentiment.polarity_scores(sentence_4))"
   ]
  },
  {
   "cell_type": "code",
   "execution_count": null,
   "id": "d0b72574-7d31-4046-a330-b1ac696d83db",
   "metadata": {},
   "outputs": [],
   "source": []
  },
  {
   "cell_type": "code",
   "execution_count": null,
   "id": "e546b671-c43f-4460-bab7-2fd082520b6c",
   "metadata": {},
   "outputs": [],
   "source": []
  },
  {
   "cell_type": "code",
   "execution_count": null,
   "id": "14da7ee0-6aed-42ad-ba73-f91a63e2786f",
   "metadata": {},
   "outputs": [],
   "source": []
  },
  {
   "cell_type": "code",
   "execution_count": 17,
   "id": "6104e84c-f0a7-45b9-8eb9-9ce8710eb918",
   "metadata": {},
   "outputs": [
    {
     "name": "stdout",
     "output_type": "stream",
     "text": [
      "Requirement already satisfied: notebook in /opt/anaconda3/envs/hf-env/lib/python3.11/site-packages (7.4.4)\n",
      "Requirement already satisfied: ipywidgets in /opt/anaconda3/envs/hf-env/lib/python3.11/site-packages (8.1.7)\n",
      "Requirement already satisfied: jupyter-server<3,>=2.4.0 in /opt/anaconda3/envs/hf-env/lib/python3.11/site-packages (from notebook) (2.16.0)\n",
      "Requirement already satisfied: jupyterlab-server<3,>=2.27.1 in /opt/anaconda3/envs/hf-env/lib/python3.11/site-packages (from notebook) (2.27.3)\n",
      "Requirement already satisfied: jupyterlab<4.5,>=4.4.4 in /opt/anaconda3/envs/hf-env/lib/python3.11/site-packages (from notebook) (4.4.5)\n",
      "Requirement already satisfied: notebook-shim<0.3,>=0.2 in /opt/anaconda3/envs/hf-env/lib/python3.11/site-packages (from notebook) (0.2.4)\n",
      "Requirement already satisfied: tornado>=6.2.0 in /opt/anaconda3/envs/hf-env/lib/python3.11/site-packages (from notebook) (6.5.1)\n",
      "Requirement already satisfied: anyio>=3.1.0 in /opt/anaconda3/envs/hf-env/lib/python3.11/site-packages (from jupyter-server<3,>=2.4.0->notebook) (4.9.0)\n",
      "Requirement already satisfied: argon2-cffi>=21.1 in /opt/anaconda3/envs/hf-env/lib/python3.11/site-packages (from jupyter-server<3,>=2.4.0->notebook) (25.1.0)\n",
      "Requirement already satisfied: jinja2>=3.0.3 in /opt/anaconda3/envs/hf-env/lib/python3.11/site-packages (from jupyter-server<3,>=2.4.0->notebook) (3.1.6)\n",
      "Requirement already satisfied: jupyter-client>=7.4.4 in /opt/anaconda3/envs/hf-env/lib/python3.11/site-packages (from jupyter-server<3,>=2.4.0->notebook) (8.6.3)\n",
      "Requirement already satisfied: jupyter-core!=5.0.*,>=4.12 in /opt/anaconda3/envs/hf-env/lib/python3.11/site-packages (from jupyter-server<3,>=2.4.0->notebook) (5.8.1)\n",
      "Requirement already satisfied: jupyter-events>=0.11.0 in /opt/anaconda3/envs/hf-env/lib/python3.11/site-packages (from jupyter-server<3,>=2.4.0->notebook) (0.12.0)\n",
      "Requirement already satisfied: jupyter-server-terminals>=0.4.4 in /opt/anaconda3/envs/hf-env/lib/python3.11/site-packages (from jupyter-server<3,>=2.4.0->notebook) (0.5.3)\n",
      "Requirement already satisfied: nbconvert>=6.4.4 in /opt/anaconda3/envs/hf-env/lib/python3.11/site-packages (from jupyter-server<3,>=2.4.0->notebook) (7.16.6)\n",
      "Requirement already satisfied: nbformat>=5.3.0 in /opt/anaconda3/envs/hf-env/lib/python3.11/site-packages (from jupyter-server<3,>=2.4.0->notebook) (5.10.4)\n",
      "Requirement already satisfied: overrides>=5.0 in /opt/anaconda3/envs/hf-env/lib/python3.11/site-packages (from jupyter-server<3,>=2.4.0->notebook) (7.7.0)\n",
      "Requirement already satisfied: packaging>=22.0 in /opt/anaconda3/envs/hf-env/lib/python3.11/site-packages (from jupyter-server<3,>=2.4.0->notebook) (25.0)\n",
      "Requirement already satisfied: prometheus-client>=0.9 in /opt/anaconda3/envs/hf-env/lib/python3.11/site-packages (from jupyter-server<3,>=2.4.0->notebook) (0.22.1)\n",
      "Requirement already satisfied: pyzmq>=24 in /opt/anaconda3/envs/hf-env/lib/python3.11/site-packages (from jupyter-server<3,>=2.4.0->notebook) (27.0.0)\n",
      "Requirement already satisfied: send2trash>=1.8.2 in /opt/anaconda3/envs/hf-env/lib/python3.11/site-packages (from jupyter-server<3,>=2.4.0->notebook) (1.8.3)\n",
      "Requirement already satisfied: terminado>=0.8.3 in /opt/anaconda3/envs/hf-env/lib/python3.11/site-packages (from jupyter-server<3,>=2.4.0->notebook) (0.18.1)\n",
      "Requirement already satisfied: traitlets>=5.6.0 in /opt/anaconda3/envs/hf-env/lib/python3.11/site-packages (from jupyter-server<3,>=2.4.0->notebook) (5.14.3)\n",
      "Requirement already satisfied: websocket-client>=1.7 in /opt/anaconda3/envs/hf-env/lib/python3.11/site-packages (from jupyter-server<3,>=2.4.0->notebook) (1.8.0)\n",
      "Requirement already satisfied: async-lru>=1.0.0 in /opt/anaconda3/envs/hf-env/lib/python3.11/site-packages (from jupyterlab<4.5,>=4.4.4->notebook) (2.0.5)\n",
      "Requirement already satisfied: httpx>=0.25.0 in /opt/anaconda3/envs/hf-env/lib/python3.11/site-packages (from jupyterlab<4.5,>=4.4.4->notebook) (0.28.1)\n",
      "Requirement already satisfied: ipykernel>=6.5.0 in /opt/anaconda3/envs/hf-env/lib/python3.11/site-packages (from jupyterlab<4.5,>=4.4.4->notebook) (6.30.0)\n",
      "Requirement already satisfied: jupyter-lsp>=2.0.0 in /opt/anaconda3/envs/hf-env/lib/python3.11/site-packages (from jupyterlab<4.5,>=4.4.4->notebook) (2.2.6)\n",
      "Requirement already satisfied: setuptools>=41.1.0 in /opt/anaconda3/envs/hf-env/lib/python3.11/site-packages (from jupyterlab<4.5,>=4.4.4->notebook) (78.1.1)\n",
      "Requirement already satisfied: babel>=2.10 in /opt/anaconda3/envs/hf-env/lib/python3.11/site-packages (from jupyterlab-server<3,>=2.27.1->notebook) (2.17.0)\n",
      "Requirement already satisfied: json5>=0.9.0 in /opt/anaconda3/envs/hf-env/lib/python3.11/site-packages (from jupyterlab-server<3,>=2.27.1->notebook) (0.12.0)\n",
      "Requirement already satisfied: jsonschema>=4.18.0 in /opt/anaconda3/envs/hf-env/lib/python3.11/site-packages (from jupyterlab-server<3,>=2.27.1->notebook) (4.25.0)\n",
      "Requirement already satisfied: requests>=2.31 in /opt/anaconda3/envs/hf-env/lib/python3.11/site-packages (from jupyterlab-server<3,>=2.27.1->notebook) (2.32.4)\n",
      "Requirement already satisfied: comm>=0.1.3 in /opt/anaconda3/envs/hf-env/lib/python3.11/site-packages (from ipywidgets) (0.2.2)\n",
      "Requirement already satisfied: ipython>=6.1.0 in /opt/anaconda3/envs/hf-env/lib/python3.11/site-packages (from ipywidgets) (9.4.0)\n",
      "Requirement already satisfied: widgetsnbextension~=4.0.14 in /opt/anaconda3/envs/hf-env/lib/python3.11/site-packages (from ipywidgets) (4.0.14)\n",
      "Requirement already satisfied: jupyterlab_widgets~=3.0.15 in /opt/anaconda3/envs/hf-env/lib/python3.11/site-packages (from ipywidgets) (3.0.15)\n",
      "Requirement already satisfied: idna>=2.8 in /opt/anaconda3/envs/hf-env/lib/python3.11/site-packages (from anyio>=3.1.0->jupyter-server<3,>=2.4.0->notebook) (3.10)\n",
      "Requirement already satisfied: sniffio>=1.1 in /opt/anaconda3/envs/hf-env/lib/python3.11/site-packages (from anyio>=3.1.0->jupyter-server<3,>=2.4.0->notebook) (1.3.1)\n",
      "Requirement already satisfied: typing_extensions>=4.5 in /opt/anaconda3/envs/hf-env/lib/python3.11/site-packages (from anyio>=3.1.0->jupyter-server<3,>=2.4.0->notebook) (4.14.1)\n",
      "Requirement already satisfied: argon2-cffi-bindings in /opt/anaconda3/envs/hf-env/lib/python3.11/site-packages (from argon2-cffi>=21.1->jupyter-server<3,>=2.4.0->notebook) (21.2.0)\n",
      "Requirement already satisfied: certifi in /opt/anaconda3/envs/hf-env/lib/python3.11/site-packages (from httpx>=0.25.0->jupyterlab<4.5,>=4.4.4->notebook) (2025.7.14)\n",
      "Requirement already satisfied: httpcore==1.* in /opt/anaconda3/envs/hf-env/lib/python3.11/site-packages (from httpx>=0.25.0->jupyterlab<4.5,>=4.4.4->notebook) (1.0.9)\n",
      "Requirement already satisfied: h11>=0.16 in /opt/anaconda3/envs/hf-env/lib/python3.11/site-packages (from httpcore==1.*->httpx>=0.25.0->jupyterlab<4.5,>=4.4.4->notebook) (0.16.0)\n",
      "Requirement already satisfied: appnope>=0.1.2 in /opt/anaconda3/envs/hf-env/lib/python3.11/site-packages (from ipykernel>=6.5.0->jupyterlab<4.5,>=4.4.4->notebook) (0.1.4)\n",
      "Requirement already satisfied: debugpy>=1.6.5 in /opt/anaconda3/envs/hf-env/lib/python3.11/site-packages (from ipykernel>=6.5.0->jupyterlab<4.5,>=4.4.4->notebook) (1.8.15)\n",
      "Requirement already satisfied: matplotlib-inline>=0.1 in /opt/anaconda3/envs/hf-env/lib/python3.11/site-packages (from ipykernel>=6.5.0->jupyterlab<4.5,>=4.4.4->notebook) (0.1.7)\n",
      "Requirement already satisfied: nest-asyncio>=1.4 in /opt/anaconda3/envs/hf-env/lib/python3.11/site-packages (from ipykernel>=6.5.0->jupyterlab<4.5,>=4.4.4->notebook) (1.6.0)\n",
      "Requirement already satisfied: psutil>=5.7 in /opt/anaconda3/envs/hf-env/lib/python3.11/site-packages (from ipykernel>=6.5.0->jupyterlab<4.5,>=4.4.4->notebook) (7.0.0)\n",
      "Requirement already satisfied: decorator in /opt/anaconda3/envs/hf-env/lib/python3.11/site-packages (from ipython>=6.1.0->ipywidgets) (5.2.1)\n",
      "Requirement already satisfied: ipython-pygments-lexers in /opt/anaconda3/envs/hf-env/lib/python3.11/site-packages (from ipython>=6.1.0->ipywidgets) (1.1.1)\n",
      "Requirement already satisfied: jedi>=0.16 in /opt/anaconda3/envs/hf-env/lib/python3.11/site-packages (from ipython>=6.1.0->ipywidgets) (0.19.2)\n",
      "Requirement already satisfied: pexpect>4.3 in /opt/anaconda3/envs/hf-env/lib/python3.11/site-packages (from ipython>=6.1.0->ipywidgets) (4.9.0)\n",
      "Requirement already satisfied: prompt_toolkit<3.1.0,>=3.0.41 in /opt/anaconda3/envs/hf-env/lib/python3.11/site-packages (from ipython>=6.1.0->ipywidgets) (3.0.51)\n",
      "Requirement already satisfied: pygments>=2.4.0 in /opt/anaconda3/envs/hf-env/lib/python3.11/site-packages (from ipython>=6.1.0->ipywidgets) (2.19.2)\n",
      "Requirement already satisfied: stack_data in /opt/anaconda3/envs/hf-env/lib/python3.11/site-packages (from ipython>=6.1.0->ipywidgets) (0.6.3)\n",
      "Requirement already satisfied: wcwidth in /opt/anaconda3/envs/hf-env/lib/python3.11/site-packages (from prompt_toolkit<3.1.0,>=3.0.41->ipython>=6.1.0->ipywidgets) (0.2.13)\n",
      "Requirement already satisfied: parso<0.9.0,>=0.8.4 in /opt/anaconda3/envs/hf-env/lib/python3.11/site-packages (from jedi>=0.16->ipython>=6.1.0->ipywidgets) (0.8.4)\n",
      "Requirement already satisfied: MarkupSafe>=2.0 in /opt/anaconda3/envs/hf-env/lib/python3.11/site-packages (from jinja2>=3.0.3->jupyter-server<3,>=2.4.0->notebook) (3.0.2)\n",
      "Requirement already satisfied: attrs>=22.2.0 in /opt/anaconda3/envs/hf-env/lib/python3.11/site-packages (from jsonschema>=4.18.0->jupyterlab-server<3,>=2.27.1->notebook) (25.3.0)\n",
      "Requirement already satisfied: jsonschema-specifications>=2023.03.6 in /opt/anaconda3/envs/hf-env/lib/python3.11/site-packages (from jsonschema>=4.18.0->jupyterlab-server<3,>=2.27.1->notebook) (2025.4.1)\n",
      "Requirement already satisfied: referencing>=0.28.4 in /opt/anaconda3/envs/hf-env/lib/python3.11/site-packages (from jsonschema>=4.18.0->jupyterlab-server<3,>=2.27.1->notebook) (0.36.2)\n",
      "Requirement already satisfied: rpds-py>=0.7.1 in /opt/anaconda3/envs/hf-env/lib/python3.11/site-packages (from jsonschema>=4.18.0->jupyterlab-server<3,>=2.27.1->notebook) (0.26.0)\n",
      "Requirement already satisfied: python-dateutil>=2.8.2 in /opt/anaconda3/envs/hf-env/lib/python3.11/site-packages (from jupyter-client>=7.4.4->jupyter-server<3,>=2.4.0->notebook) (2.9.0.post0)\n",
      "Requirement already satisfied: platformdirs>=2.5 in /opt/anaconda3/envs/hf-env/lib/python3.11/site-packages (from jupyter-core!=5.0.*,>=4.12->jupyter-server<3,>=2.4.0->notebook) (4.3.8)\n",
      "Requirement already satisfied: python-json-logger>=2.0.4 in /opt/anaconda3/envs/hf-env/lib/python3.11/site-packages (from jupyter-events>=0.11.0->jupyter-server<3,>=2.4.0->notebook) (3.3.0)\n",
      "Requirement already satisfied: pyyaml>=5.3 in /opt/anaconda3/envs/hf-env/lib/python3.11/site-packages (from jupyter-events>=0.11.0->jupyter-server<3,>=2.4.0->notebook) (6.0.2)\n",
      "Requirement already satisfied: rfc3339-validator in /opt/anaconda3/envs/hf-env/lib/python3.11/site-packages (from jupyter-events>=0.11.0->jupyter-server<3,>=2.4.0->notebook) (0.1.4)\n",
      "Requirement already satisfied: rfc3986-validator>=0.1.1 in /opt/anaconda3/envs/hf-env/lib/python3.11/site-packages (from jupyter-events>=0.11.0->jupyter-server<3,>=2.4.0->notebook) (0.1.1)\n",
      "Requirement already satisfied: fqdn in /opt/anaconda3/envs/hf-env/lib/python3.11/site-packages (from jsonschema[format-nongpl]>=4.18.0->jupyter-events>=0.11.0->jupyter-server<3,>=2.4.0->notebook) (1.5.1)\n",
      "Requirement already satisfied: isoduration in /opt/anaconda3/envs/hf-env/lib/python3.11/site-packages (from jsonschema[format-nongpl]>=4.18.0->jupyter-events>=0.11.0->jupyter-server<3,>=2.4.0->notebook) (20.11.0)\n",
      "Requirement already satisfied: jsonpointer>1.13 in /opt/anaconda3/envs/hf-env/lib/python3.11/site-packages (from jsonschema[format-nongpl]>=4.18.0->jupyter-events>=0.11.0->jupyter-server<3,>=2.4.0->notebook) (3.0.0)\n",
      "Requirement already satisfied: rfc3987-syntax>=1.1.0 in /opt/anaconda3/envs/hf-env/lib/python3.11/site-packages (from jsonschema[format-nongpl]>=4.18.0->jupyter-events>=0.11.0->jupyter-server<3,>=2.4.0->notebook) (1.1.0)\n",
      "Requirement already satisfied: uri-template in /opt/anaconda3/envs/hf-env/lib/python3.11/site-packages (from jsonschema[format-nongpl]>=4.18.0->jupyter-events>=0.11.0->jupyter-server<3,>=2.4.0->notebook) (1.3.0)\n",
      "Requirement already satisfied: webcolors>=24.6.0 in /opt/anaconda3/envs/hf-env/lib/python3.11/site-packages (from jsonschema[format-nongpl]>=4.18.0->jupyter-events>=0.11.0->jupyter-server<3,>=2.4.0->notebook) (24.11.1)\n",
      "Requirement already satisfied: beautifulsoup4 in /opt/anaconda3/envs/hf-env/lib/python3.11/site-packages (from nbconvert>=6.4.4->jupyter-server<3,>=2.4.0->notebook) (4.13.4)\n",
      "Requirement already satisfied: bleach!=5.0.0 in /opt/anaconda3/envs/hf-env/lib/python3.11/site-packages (from bleach[css]!=5.0.0->nbconvert>=6.4.4->jupyter-server<3,>=2.4.0->notebook) (6.2.0)\n",
      "Requirement already satisfied: defusedxml in /opt/anaconda3/envs/hf-env/lib/python3.11/site-packages (from nbconvert>=6.4.4->jupyter-server<3,>=2.4.0->notebook) (0.7.1)\n",
      "Requirement already satisfied: jupyterlab-pygments in /opt/anaconda3/envs/hf-env/lib/python3.11/site-packages (from nbconvert>=6.4.4->jupyter-server<3,>=2.4.0->notebook) (0.3.0)\n",
      "Requirement already satisfied: mistune<4,>=2.0.3 in /opt/anaconda3/envs/hf-env/lib/python3.11/site-packages (from nbconvert>=6.4.4->jupyter-server<3,>=2.4.0->notebook) (3.1.3)\n",
      "Requirement already satisfied: nbclient>=0.5.0 in /opt/anaconda3/envs/hf-env/lib/python3.11/site-packages (from nbconvert>=6.4.4->jupyter-server<3,>=2.4.0->notebook) (0.10.2)\n",
      "Requirement already satisfied: pandocfilters>=1.4.1 in /opt/anaconda3/envs/hf-env/lib/python3.11/site-packages (from nbconvert>=6.4.4->jupyter-server<3,>=2.4.0->notebook) (1.5.1)\n",
      "Requirement already satisfied: webencodings in /opt/anaconda3/envs/hf-env/lib/python3.11/site-packages (from bleach!=5.0.0->bleach[css]!=5.0.0->nbconvert>=6.4.4->jupyter-server<3,>=2.4.0->notebook) (0.5.1)\n",
      "Requirement already satisfied: tinycss2<1.5,>=1.1.0 in /opt/anaconda3/envs/hf-env/lib/python3.11/site-packages (from bleach[css]!=5.0.0->nbconvert>=6.4.4->jupyter-server<3,>=2.4.0->notebook) (1.4.0)\n",
      "Requirement already satisfied: fastjsonschema>=2.15 in /opt/anaconda3/envs/hf-env/lib/python3.11/site-packages (from nbformat>=5.3.0->jupyter-server<3,>=2.4.0->notebook) (2.21.1)\n",
      "Requirement already satisfied: ptyprocess>=0.5 in /opt/anaconda3/envs/hf-env/lib/python3.11/site-packages (from pexpect>4.3->ipython>=6.1.0->ipywidgets) (0.7.0)\n",
      "Requirement already satisfied: six>=1.5 in /opt/anaconda3/envs/hf-env/lib/python3.11/site-packages (from python-dateutil>=2.8.2->jupyter-client>=7.4.4->jupyter-server<3,>=2.4.0->notebook) (1.17.0)\n",
      "Requirement already satisfied: charset_normalizer<4,>=2 in /opt/anaconda3/envs/hf-env/lib/python3.11/site-packages (from requests>=2.31->jupyterlab-server<3,>=2.27.1->notebook) (3.4.2)\n",
      "Requirement already satisfied: urllib3<3,>=1.21.1 in /opt/anaconda3/envs/hf-env/lib/python3.11/site-packages (from requests>=2.31->jupyterlab-server<3,>=2.27.1->notebook) (2.5.0)\n",
      "Requirement already satisfied: lark>=1.2.2 in /opt/anaconda3/envs/hf-env/lib/python3.11/site-packages (from rfc3987-syntax>=1.1.0->jsonschema[format-nongpl]>=4.18.0->jupyter-events>=0.11.0->jupyter-server<3,>=2.4.0->notebook) (1.2.2)\n",
      "Requirement already satisfied: cffi>=1.0.1 in /opt/anaconda3/envs/hf-env/lib/python3.11/site-packages (from argon2-cffi-bindings->argon2-cffi>=21.1->jupyter-server<3,>=2.4.0->notebook) (1.17.1)\n",
      "Requirement already satisfied: pycparser in /opt/anaconda3/envs/hf-env/lib/python3.11/site-packages (from cffi>=1.0.1->argon2-cffi-bindings->argon2-cffi>=21.1->jupyter-server<3,>=2.4.0->notebook) (2.22)\n",
      "Requirement already satisfied: soupsieve>1.2 in /opt/anaconda3/envs/hf-env/lib/python3.11/site-packages (from beautifulsoup4->nbconvert>=6.4.4->jupyter-server<3,>=2.4.0->notebook) (2.7)\n",
      "Requirement already satisfied: arrow>=0.15.0 in /opt/anaconda3/envs/hf-env/lib/python3.11/site-packages (from isoduration->jsonschema[format-nongpl]>=4.18.0->jupyter-events>=0.11.0->jupyter-server<3,>=2.4.0->notebook) (1.3.0)\n",
      "Requirement already satisfied: types-python-dateutil>=2.8.10 in /opt/anaconda3/envs/hf-env/lib/python3.11/site-packages (from arrow>=0.15.0->isoduration->jsonschema[format-nongpl]>=4.18.0->jupyter-events>=0.11.0->jupyter-server<3,>=2.4.0->notebook) (2.9.0.20250708)\n",
      "Requirement already satisfied: executing>=1.2.0 in /opt/anaconda3/envs/hf-env/lib/python3.11/site-packages (from stack_data->ipython>=6.1.0->ipywidgets) (2.2.0)\n",
      "Requirement already satisfied: asttokens>=2.1.0 in /opt/anaconda3/envs/hf-env/lib/python3.11/site-packages (from stack_data->ipython>=6.1.0->ipywidgets) (3.0.0)\n",
      "Requirement already satisfied: pure-eval in /opt/anaconda3/envs/hf-env/lib/python3.11/site-packages (from stack_data->ipython>=6.1.0->ipywidgets) (0.2.3)\n",
      "Note: you may need to restart the kernel to use updated packages.\n"
     ]
    }
   ],
   "source": [
    "pip install --upgrade notebook ipywidgets"
   ]
  },
  {
   "cell_type": "code",
   "execution_count": null,
   "id": "48b58e70-77d8-434e-a65e-b826aa8ea728",
   "metadata": {},
   "outputs": [],
   "source": []
  }
 ],
 "metadata": {
  "kernelspec": {
   "display_name": "Python 3 (ipykernel)",
   "language": "python",
   "name": "python3"
  },
  "language_info": {
   "codemirror_mode": {
    "name": "ipython",
    "version": 3
   },
   "file_extension": ".py",
   "mimetype": "text/x-python",
   "name": "python",
   "nbconvert_exporter": "python",
   "pygments_lexer": "ipython3",
   "version": "3.11.13"
  }
 },
 "nbformat": 4,
 "nbformat_minor": 5
}

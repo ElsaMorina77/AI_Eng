{
 "cells": [
  {
   "cell_type": "code",
   "execution_count": 1,
   "id": "33149181-5e97-4f3f-9ece-a85cb45a54b5",
   "metadata": {},
   "outputs": [],
   "source": [
    "sentence = \"Her cat's name is Luna\"\n"
   ]
  },
  {
   "cell_type": "code",
   "execution_count": 2,
   "id": "0c1278d1-3d28-42b3-ac8c-488a972f3e95",
   "metadata": {},
   "outputs": [],
   "source": [
    "lower_sentence = sentence.lower()"
   ]
  },
  {
   "cell_type": "code",
   "execution_count": 3,
   "id": "8bbefb09-a3b0-4d74-abeb-68e14553e3e6",
   "metadata": {},
   "outputs": [
    {
     "name": "stdout",
     "output_type": "stream",
     "text": [
      "her cat's name is luna\n"
     ]
    }
   ],
   "source": [
    "print(lower_sentence)"
   ]
  },
  {
   "cell_type": "code",
   "execution_count": 4,
   "id": "b2d0ede3-8c73-4532-b082-33a48eab28e3",
   "metadata": {},
   "outputs": [],
   "source": [
    "sentence_list = [\"Could you pass me the TV remote?\",\n",
    "                \"It is IMPOSSIBLE to find this hotel\",\n",
    "                \"Want to fo for dinner on Tuesday?\"]\n"
   ]
  },
  {
   "cell_type": "code",
   "execution_count": 5,
   "id": "a5ca7616-fc17-490f-8c15-4aed69fcb4a0",
   "metadata": {},
   "outputs": [],
   "source": [
    "lower_sentence_list = [x.lower() for x in sentence_list]"
   ]
  },
  {
   "cell_type": "code",
   "execution_count": 6,
   "id": "9b2f4a5c-c991-46da-be3d-e852a9aeff5f",
   "metadata": {},
   "outputs": [
    {
     "name": "stdout",
     "output_type": "stream",
     "text": [
      "['could you pass me the tv remote?', 'it is impossible to find this hotel', 'want to fo for dinner on tuesday?']\n"
     ]
    }
   ],
   "source": [
    "print(lower_sentence_list)"
   ]
  },
  {
   "cell_type": "code",
   "execution_count": null,
   "id": "cd6c6cf3-253e-4f31-8cc6-6a403dd39908",
   "metadata": {},
   "outputs": [],
   "source": []
  }
 ],
 "metadata": {
  "kernelspec": {
   "display_name": "Python 3 (ipykernel)",
   "language": "python",
   "name": "python3"
  },
  "language_info": {
   "codemirror_mode": {
    "name": "ipython",
    "version": 3
   },
   "file_extension": ".py",
   "mimetype": "text/x-python",
   "name": "python",
   "nbconvert_exporter": "python",
   "pygments_lexer": "ipython3",
   "version": "3.13.5"
  }
 },
 "nbformat": 4,
 "nbformat_minor": 5
}

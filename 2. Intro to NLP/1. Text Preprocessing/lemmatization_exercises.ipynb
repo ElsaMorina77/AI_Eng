{
 "cells": [
  {
   "cell_type": "code",
   "execution_count": 2,
   "id": "8df00bb6-bd12-40a3-a4e8-e7bdabefecce",
   "metadata": {},
   "outputs": [],
   "source": [
    "import nltk\n",
    "import pandas as pd\n",
    "import matplotlib.pyplot as plt"
   ]
  },
  {
   "cell_type": "code",
   "execution_count": 3,
   "id": "d6409f36-5539-47be-8e9f-0e54eb3e2120",
   "metadata": {},
   "outputs": [
    {
     "name": "stdout",
     "output_type": "stream",
     "text": [
      "['the', 'rise', 'of', 'artificial', 'intelligence', 'has', 'led', 'to', 'significant', 'advancements', 'in', 'natural', 'language', 'processing', 'computer', 'vision', 'and', 'other', 'fields', 'machine', 'learning', 'algorithms', 'are', 'becoming', 'more', 'sophisticated', 'enabling', 'computers', 'to', 'perform', 'complex', 'tasks', 'that', 'were', 'once', 'thought', 'to', 'be', 'the', 'exclusive', 'domain', 'of', 'humans', 'with', 'the', 'advent', 'of', 'deep', 'learning', 'neural', 'networks', 'have', 'become', 'even', 'more', 'powerful', 'capable', 'of', 'processing', 'vast', 'amounts', 'of', 'data', 'and', 'learning', 'from', 'it', 'in', 'ways', 'that', 'were', 'not', 'possible', 'before', 'as', 'a', 'result', 'ai', 'is', 'increasingly', 'being', 'used', 'in', 'a', 'wide', 'range', 'of', 'industries', 'from', 'healthcare', 'to', 'finance', 'to', 'transportation', 'and', 'its', 'impact', 'is', 'only', 'set', 'to', 'grow', 'in', 'the', 'years', 'to', 'come']\n"
     ]
    }
   ],
   "source": [
    "tokens = ['the', 'rise', 'of', 'artificial', 'intelligence', 'has', 'led', 'to', 'significant', 'advancements', 'in', 'natural', 'language', 'processing', 'computer', 'vision', 'and', 'other', 'fields', 'machine', 'learning', 'algorithms', 'are', 'becoming', 'more', 'sophisticated', 'enabling', 'computers', 'to', 'perform', 'complex', 'tasks', 'that', 'were', 'once', 'thought', 'to', 'be', 'the', 'exclusive', 'domain', 'of', 'humans', 'with', 'the', 'advent', 'of', 'deep', 'learning', 'neural', 'networks', 'have', 'become', 'even', 'more', 'powerful', 'capable', 'of', 'processing', 'vast', 'amounts', 'of', 'data', 'and', 'learning', 'from', 'it', 'in', 'ways', 'that', 'were', 'not', 'possible', 'before', 'as', 'a', 'result', 'ai', 'is', 'increasingly', 'being', 'used', 'in', 'a', 'wide', 'range', 'of', 'industries', 'from', 'healthcare', 'to', 'finance', 'to', 'transportation', 'and', 'its', 'impact', 'is', 'only', 'set', 'to', 'grow', 'in', 'the', 'years', 'to', 'come']\n",
    "print(tokens)"
   ]
  },
  {
   "cell_type": "code",
   "execution_count": 4,
   "id": "9d92c458-e02e-4701-9cd0-f76196af1fcf",
   "metadata": {},
   "outputs": [
    {
     "name": "stdout",
     "output_type": "stream",
     "text": [
      "(to,)       7\n",
      "(of,)       6\n",
      "(the,)      4\n",
      "(in,)       4\n",
      "(and,)      3\n",
      "           ..\n",
      "(only,)     1\n",
      "(set,)      1\n",
      "(grow,)     1\n",
      "(years,)    1\n",
      "(come,)     1\n",
      "Name: count, Length: 79, dtype: int64\n"
     ]
    }
   ],
   "source": [
    "unigrams = (pd.Series(nltk.ngrams(tokens, 1)).value_counts())\n",
    "print(unigrams)"
   ]
  },
  {
   "cell_type": "code",
   "execution_count": 5,
   "id": "47421357-1971-4499-a0de-7a0255d56794",
   "metadata": {},
   "outputs": [
    {
     "data": {
      "text/plain": [
       "Text(0.5, 1.0, '10 Most requently occuring unigrams')"
      ]
     },
     "execution_count": 5,
     "metadata": {},
     "output_type": "execute_result"
    },
    {
     "data": {
      "image/png": "[encoded data removed]",
      "text/plain": [
       "<Figure size 1200x800 with 1 Axes>"
      ]
     },
     "metadata": {},
     "output_type": "display_data"
    }
   ],
   "source": [
    "unigrams[:10].sort_values().plot.barh(color='lightsalmon', width = .9, figsize=(12,8))\n",
    "plt.title(\"10 Most requently occuring unigrams\")"
   ]
  },
  {
   "cell_type": "code",
   "execution_count": 6,
   "id": "c1eea5cc-0126-44af-9605-d0935334c8f5",
   "metadata": {},
   "outputs": [
    {
     "name": "stdout",
     "output_type": "stream",
     "text": [
      "(that, were)                   2\n",
      "(rise, of)                     1\n",
      "(of, artificial)               1\n",
      "(artificial, intelligence)     1\n",
      "(intelligence, has)            1\n",
      "(has, led)                     1\n",
      "(led, to)                      1\n",
      "(to, significant)              1\n",
      "(the, rise)                    1\n",
      "(significant, advancements)    1\n",
      "Name: count, dtype: int64\n"
     ]
    }
   ],
   "source": [
    "bigrams = (pd.Series(nltk.ngrams(tokens, 2)).value_counts())\n",
    "print(bigrams[:10])"
   ]
  },
  {
   "cell_type": "code",
   "execution_count": 9,
   "id": "8ce97ea3-8e83-41ac-9173-1b604d8358cc",
   "metadata": {},
   "outputs": [
    {
     "name": "stdout",
     "output_type": "stream",
     "text": [
      "(its, impact, is)     1\n",
      "(impact, is, only)    1\n",
      "(is, only, set)       1\n",
      "(only, set, to)       1\n",
      "(set, to, grow)       1\n",
      "(to, grow, in)        1\n",
      "(grow, in, the)       1\n",
      "(in, the, years)      1\n",
      "(the, years, to)      1\n",
      "(years, to, come)     1\n",
      "Name: count, dtype: int64\n"
     ]
    }
   ],
   "source": [
    "trigrams = (pd.Series(nltk.ngrams(tokens, 3)).value_counts())\n",
    "print(trigrams[-10:])"
   ]
  },
  {
   "cell_type": "code",
   "execution_count": null,
   "id": "ef73d044-b05e-44ab-b73a-2bc653d8324e",
   "metadata": {},
   "outputs": [],
   "source": []
  }
 ],
 "metadata": {
  "kernelspec": {
   "display_name": "Python 3 (ipykernel)",
   "language": "python",
   "name": "python3"
  },
  "language_info": {
   "codemirror_mode": {
    "name": "ipython",
    "version": 3
   },
   "file_extension": ".py",
   "mimetype": "text/x-python",
   "name": "python",
   "nbconvert_exporter": "python",
   "pygments_lexer": "ipython3",
   "version": "3.13.5"
  }
 },
 "nbformat": 4,
 "nbformat_minor": 5
}

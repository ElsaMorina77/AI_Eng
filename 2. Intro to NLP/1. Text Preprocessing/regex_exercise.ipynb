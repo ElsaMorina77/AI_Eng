{
 "cells": [
  {
   "cell_type": "code",
   "execution_count": 1,
   "id": "cc58ff72-623f-4e74-af81-3f953455a273",
   "metadata": {},
   "outputs": [],
   "source": [
    "import re"
   ]
  },
  {
   "cell_type": "code",
   "execution_count": 2,
   "id": "1d50d3c4-5361-41c7-8fb8-113094e4d6e2",
   "metadata": {},
   "outputs": [
    {
     "name": "stdout",
     "output_type": "stream",
     "text": [
      "C:\\desktop\n",
      "otes\n"
     ]
    }
   ],
   "source": [
    "my_folder = \"C:\\desktop\\notes\"\n",
    "print(my_folder)"
   ]
  },
  {
   "cell_type": "code",
   "execution_count": 3,
   "id": "8bc82073-3341-4398-b8ac-46da01c7aa64",
   "metadata": {},
   "outputs": [
    {
     "name": "stdout",
     "output_type": "stream",
     "text": [
      "C:\\desktop\\notes\n"
     ]
    }
   ],
   "source": [
    "my_folder = r\"C:\\desktop\\notes\"\n",
    "print(my_folder)"
   ]
  },
  {
   "cell_type": "code",
   "execution_count": 4,
   "id": "e5a1c1af-466e-4579-bf08-c4f652e5a2ef",
   "metadata": {},
   "outputs": [],
   "source": [
    "result_search = re.search(\"pattern\", r\"string to contain the pattern\")"
   ]
  },
  {
   "cell_type": "code",
   "execution_count": 5,
   "id": "654d16c9-639f-4cd6-a464-7c42cc6a02d2",
   "metadata": {},
   "outputs": [
    {
     "name": "stdout",
     "output_type": "stream",
     "text": [
      "<re.Match object; span=(22, 29), match='pattern'>\n"
     ]
    }
   ],
   "source": [
    "print(result_search)"
   ]
  },
  {
   "cell_type": "code",
   "execution_count": 7,
   "id": "3c556947-2518-4438-ae0e-16820b07eed4",
   "metadata": {},
   "outputs": [
    {
     "name": "stdout",
     "output_type": "stream",
     "text": [
      "None\n"
     ]
    }
   ],
   "source": [
    "results_search_2 = re.search(\"pattern\", r\"the phrase to find isn't in this string\")\n",
    "print(results_search_2)"
   ]
  },
  {
   "cell_type": "code",
   "execution_count": 8,
   "id": "78bce4a7-e548-475d-8a65-7900c3ae95fe",
   "metadata": {},
   "outputs": [],
   "source": [
    "string = r\"sara was able to help me find the items I needed quickly\""
   ]
  },
  {
   "cell_type": "code",
   "execution_count": 9,
   "id": "97b82f34-5187-4f17-b4a8-8a3489190749",
   "metadata": {},
   "outputs": [
    {
     "name": "stdout",
     "output_type": "stream",
     "text": [
      "sarah was able to help me find the items I needed quickly\n"
     ]
    }
   ],
   "source": [
    "new_string = re.sub(\"sara\", \"sarah\", string)\n",
    "print(new_string)"
   ]
  },
  {
   "cell_type": "code",
   "execution_count": 10,
   "id": "72e9db21-9c1d-4fd8-9004-b015414abedc",
   "metadata": {},
   "outputs": [],
   "source": [
    "customer_reviews = ['sam was a great help to me in the store', \n",
    "                    'the cashier was very rude to me, I think her name was eleanor', \n",
    "                    'amazing work from sadeen!', \n",
    "                    'sarah was able to help me find the items i needed quickly', \n",
    "                    'lucy is such a great addition to the team', \n",
    "                    'great service from sara she found me what i wanted'\n",
    "                   ]"
   ]
  },
  {
   "cell_type": "code",
   "execution_count": 11,
   "id": "3990fa72-6005-43e9-b925-4ed43484cb96",
   "metadata": {},
   "outputs": [],
   "source": [
    "sarah_reviews = []"
   ]
  },
  {
   "cell_type": "code",
   "execution_count": 12,
   "id": "0b23b42d-b92d-4023-bd88-87713be67475",
   "metadata": {},
   "outputs": [],
   "source": [
    "pattern_to_find = r\"sarah?\""
   ]
  },
  {
   "cell_type": "code",
   "execution_count": 14,
   "id": "13be66dd-ec15-46d8-a3a6-e4d77096b436",
   "metadata": {},
   "outputs": [],
   "source": [
    "for string in customer_reviews:\n",
    "    if(re.search(pattern_to_find, string)):\n",
    "        sarah_reviews.append(string)"
   ]
  },
  {
   "cell_type": "code",
   "execution_count": 15,
   "id": "af1bd988-e09e-4c17-9f8f-b87c9a83f133",
   "metadata": {},
   "outputs": [
    {
     "name": "stdout",
     "output_type": "stream",
     "text": [
      "['sarah was able to help me find the items i needed quickly', 'great service from sara she found me what i wanted']\n"
     ]
    }
   ],
   "source": [
    "print(sarah_reviews)"
   ]
  },
  {
   "cell_type": "code",
   "execution_count": 18,
   "id": "7f533df6-4441-4a30-877c-3d0f0d597c45",
   "metadata": {},
   "outputs": [],
   "source": [
    "a_reviews = []\n",
    "pattern_to_find = r\"^a\"\n",
    "\n",
    "\n",
    "for string in customer_reviews:\n",
    "    if(re.search(pattern_to_find, string)):\n",
    "        a_reviews.append(string)"
   ]
  },
  {
   "cell_type": "code",
   "execution_count": 19,
   "id": "26359f0d-1179-4acf-a64a-ce2917633f1a",
   "metadata": {},
   "outputs": [
    {
     "name": "stdout",
     "output_type": "stream",
     "text": [
      "['amazing work from sadeen!']\n"
     ]
    }
   ],
   "source": [
    "print(a_reviews)\n"
   ]
  },
  {
   "cell_type": "code",
   "execution_count": 20,
   "id": "c217f765-444e-4ce1-8634-fde09f7d6959",
   "metadata": {},
   "outputs": [
    {
     "name": "stdout",
     "output_type": "stream",
     "text": [
      "['sarah was able to help me find the items i needed quickly']\n"
     ]
    }
   ],
   "source": [
    "y_reviews = []\n",
    "\n",
    "pattern_to_find = r\"y$\"\n",
    "\n",
    "for string in customer_reviews: \n",
    "    if(re.search(pattern_to_find, string)):\n",
    "        y_reviews.append(string)\n",
    "\n",
    "print(y_reviews)"
   ]
  },
  {
   "cell_type": "code",
   "execution_count": 21,
   "id": "1802ab19-c7b6-4935-ae8e-5be5110457a3",
   "metadata": {},
   "outputs": [
    {
     "name": "stdout",
     "output_type": "stream",
     "text": [
      "['sarah was able to help me find the items i needed quickly', 'great service from sara she found me what i wanted']\n"
     ]
    }
   ],
   "source": [
    "needwant_reviews = []\n",
    "\n",
    "pattern_to_find = r\"(need|want)ed\"\n",
    "\n",
    "for string in customer_reviews:\n",
    "    if(re.search(pattern_to_find, string)):\n",
    "        needwant_reviews.append(string)\n",
    "\n",
    "\n",
    "print(needwant_reviews)"
   ]
  },
  {
   "cell_type": "code",
   "execution_count": 22,
   "id": "dfd2d077-3b72-4fa3-8cdd-0384f33719d9",
   "metadata": {},
   "outputs": [],
   "source": [
    "no_punct_reviews = []\n",
    "\n",
    "pattern_to_find = r\"[^\\w\\s]\" # find everything that is not a word or a space"
   ]
  },
  {
   "cell_type": "code",
   "execution_count": 23,
   "id": "4c347b71-bb7d-4cc7-a111-90095807a96b",
   "metadata": {},
   "outputs": [],
   "source": [
    "for string in customer_reviews: \n",
    "    no_punct_string = re.sub(pattern_to_find, \"\", string)\n",
    "    no_punct_reviews.append(no_punct_string)"
   ]
  },
  {
   "cell_type": "code",
   "execution_count": 24,
   "id": "68c64b46-93d4-4142-bfd1-103fb1397a74",
   "metadata": {},
   "outputs": [
    {
     "name": "stdout",
     "output_type": "stream",
     "text": [
      "['sam was a great help to me in the store', 'the cashier was very rude to me I think her name was eleanor', 'amazing work from sadeen', 'sarah was able to help me find the items i needed quickly', 'lucy is such a great addition to the team', 'great service from sara she found me what i wanted']\n"
     ]
    }
   ],
   "source": [
    "print(no_punct_reviews)"
   ]
  },
  {
   "cell_type": "code",
   "execution_count": null,
   "id": "c34b8207-bfed-489d-a264-b33e3228378c",
   "metadata": {},
   "outputs": [],
   "source": []
  }
 ],
 "metadata": {
  "kernelspec": {
   "display_name": "Python 3 (ipykernel)",
   "language": "python",
   "name": "python3"
  },
  "language_info": {
   "codemirror_mode": {
    "name": "ipython",
    "version": 3
   },
   "file_extension": ".py",
   "mimetype": "text/x-python",
   "name": "python",
   "nbconvert_exporter": "python",
   "pygments_lexer": "ipython3",
   "version": "3.13.5"
  }
 },
 "nbformat": 4,
 "nbformat_minor": 5
}

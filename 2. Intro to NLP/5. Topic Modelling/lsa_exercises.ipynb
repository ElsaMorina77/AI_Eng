{
 "cells": [
  {
   "cell_type": "code",
   "execution_count": 3,
   "id": "8c5d1789-b5a5-4cc6-8d03-c2f3f6d97959",
   "metadata": {},
   "outputs": [],
   "source": [
    "import pandas as pd\n",
    "import re \n",
    "from nltk.corpus import stopwords\n",
    "from nltk.tokenize import word_tokenize\n",
    "from nltk.stem import PorterStemmer\n",
    "import gensim \n",
    "import gensim.corpora as corpora "
   ]
  },
  {
   "cell_type": "code",
   "execution_count": 4,
   "id": "81658307-8c2d-4fe2-b1c7-4604013a0d3b",
   "metadata": {},
   "outputs": [],
   "source": [
    "from gensim.models import LsiModel"
   ]
  },
  {
   "cell_type": "code",
   "execution_count": 5,
   "id": "07ba919b-ac51-43e3-a323-a839d7588e2b",
   "metadata": {},
   "outputs": [],
   "source": [
    "data = pd.read_csv(\"news_articles.csv\")"
   ]
  },
  {
   "cell_type": "code",
   "execution_count": 6,
   "id": "d0d9b42d-8d1f-4042-aab4-a0012f111914",
   "metadata": {},
   "outputs": [],
   "source": [
    "articles = data['content']"
   ]
  },
  {
   "cell_type": "code",
   "execution_count": 7,
   "id": "c8256c5e-7804-4657-8913-8a084f6b6383",
   "metadata": {},
   "outputs": [],
   "source": [
    "articles = articles.str.lower().apply(lambda x: re.sub(r\"([^\\w\\s])\", '',x))\n",
    "\n",
    "#stop words removal \n",
    "\n",
    "en_stopwords = stopwords.words('english')\n",
    "articles = articles.apply(lambda x: ' '.join([word for word in x.split() if word not in (en_stopwords)]))\n",
    "\n",
    "#tokenize \n",
    "articles = articles.apply(lambda x: word_tokenize(x))\n",
    "\n",
    "#stemming (done for speed as we have a lot of text)\n",
    "ps = PorterStemmer()\n",
    "articles = articles.apply(lambda tokens: [ps.stem(token) for token in tokens])\n",
    "\n",
    "\n"
   ]
  },
  {
   "cell_type": "code",
   "execution_count": 8,
   "id": "f735e700-f14b-4417-805d-e33c43023c4b",
   "metadata": {},
   "outputs": [
    {
     "name": "stdout",
     "output_type": "stream",
     "text": [
      "Dictionary<8693 unique tokens: ['10', '100', '108', '15', '155']...>\n"
     ]
    }
   ],
   "source": [
    "dictionary = corpora.Dictionary(articles)\n",
    "print(dictionary)\n"
   ]
  },
  {
   "cell_type": "code",
   "execution_count": 9,
   "id": "744a9919-3f02-4851-b358-13ff316bdb1e",
   "metadata": {},
   "outputs": [],
   "source": [
    "doc_term = [dictionary.doc2bow(text) for text in articles]"
   ]
  },
  {
   "cell_type": "code",
   "execution_count": 11,
   "id": "342a3f3b-d012-433e-bd46-e8d3d0df807c",
   "metadata": {},
   "outputs": [],
   "source": [
    "num_topics = 2"
   ]
  },
  {
   "cell_type": "code",
   "execution_count": 12,
   "id": "6cbd532c-f1c2-49e8-96da-47a03417e842",
   "metadata": {},
   "outputs": [],
   "source": [
    "lsa_model = LsiModel(corpus=doc_term,\n",
    "                    id2word=dictionary,\n",
    "                    num_topics= num_topics)"
   ]
  },
  {
   "cell_type": "code",
   "execution_count": 14,
   "id": "d821c396-1326-49a1-aa52-25791b8a227c",
   "metadata": {},
   "outputs": [
    {
     "name": "stdout",
     "output_type": "stream",
     "text": [
      "[(0, '0.615*\"mr\" + 0.429*\"said\" + 0.187*\"trump\" + 0.130*\"state\" + 0.119*\"would\"'), (1, '0.537*\"mr\" + 0.319*\"trump\" + -0.286*\"said\" + -0.242*\"saudi\" + -0.142*\"weight\"')]\n"
     ]
    }
   ],
   "source": [
    "print(lsa_model.print_topics(num_topics=num_topics , num_words=5))"
   ]
  },
  {
   "cell_type": "code",
   "execution_count": 15,
   "id": "343aa965-ab5c-4e16-8ffd-876a7814a162",
   "metadata": {},
   "outputs": [],
   "source": [
    "##optimizing topics \n",
    "\n",
    "from gensim.models.coherencemodel import CoherenceModel\n",
    "import matplotlib as plt"
   ]
  },
  {
   "cell_type": "code",
   "execution_count": 16,
   "id": "2ca32ae5-a481-44c3-88c1-f2e33bcedfee",
   "metadata": {},
   "outputs": [],
   "source": [
    "coherence_values = []\n",
    "model_list = []"
   ]
  },
  {
   "cell_type": "code",
   "execution_count": 17,
   "id": "65e5dec5-d4f5-447d-8083-fcef90071152",
   "metadata": {},
   "outputs": [],
   "source": [
    "min_topics = 2\n",
    "max_topics = 11"
   ]
  },
  {
   "cell_type": "code",
   "execution_count": 19,
   "id": "0e7b3ded-9c9b-4524-bfa7-d0c898f66125",
   "metadata": {},
   "outputs": [],
   "source": [
    "for num_topics_i in range(min_topics, max_topics+1):\n",
    "    model = LsiModel(corpus=doc_term, id2word=dictionary, num_topics=num_topics_i)\n",
    "    model_list.append(model)\n",
    "    coherence_model = CoherenceModel(model=model, texts=articles, dictionary=dictionary, coherence='c_v')\n",
    "    coherence_values.append(coherence_model.get_coherence())"
   ]
  },
  {
   "cell_type": "code",
   "execution_count": 22,
   "id": "5dff9a2c-a39b-4765-81a4-1fb3bf28be24",
   "metadata": {},
   "outputs": [],
   "source": [
    "import matplotlib.pyplot as plt "
   ]
  },
  {
   "cell_type": "code",
   "execution_count": 23,
   "id": "5586a186-c0eb-41bc-a79d-b902c5d7d141",
   "metadata": {},
   "outputs": [
    {
     "data": {
      "text/plain": [
       "[<matplotlib.lines.Line2D at 0x12b5d3e50>]"
      ]
     },
     "execution_count": 23,
     "metadata": {},
     "output_type": "execute_result"
    },
    {
     "data": {
      "image/png": "[encoded data removed]",
      "text/plain": [
       "<Figure size 640x480 with 1 Axes>"
      ]
     },
     "metadata": {},
     "output_type": "display_data"
    }
   ],
   "source": [
    "plt.plot(range(min_topics,max_topics+1), coherence_values)"
   ]
  },
  {
   "cell_type": "code",
   "execution_count": 25,
   "id": "61fa6136-a0ed-4c73-a64b-99dc5aac6a2f",
   "metadata": {},
   "outputs": [
    {
     "name": "stdout",
     "output_type": "stream",
     "text": [
      "[(0, '0.615*\"mr\" + 0.429*\"said\" + 0.187*\"trump\" + 0.130*\"state\" + 0.119*\"would\" + 0.108*\"year\" + 0.102*\"one\" + 0.091*\"like\" + 0.090*\"peopl\" + 0.086*\"new\"'), (1, '-0.537*\"mr\" + -0.319*\"trump\" + 0.286*\"said\" + 0.242*\"saudi\" + 0.142*\"weight\" + 0.140*\"taliban\" + 0.120*\"one\" + 0.120*\"dr\" + 0.120*\"peopl\" + 0.107*\"year\"'), (2, '-0.460*\"saudi\" + -0.264*\"taliban\" + 0.249*\"weight\" + -0.194*\"afghanistan\" + 0.191*\"dr\" + -0.189*\"arabia\" + -0.174*\"afghan\" + -0.139*\"offici\" + 0.139*\"diet\" + -0.127*\"state\"')]\n"
     ]
    }
   ],
   "source": [
    "final_num_topics = 3 # since the highest point is on the 3rd point in the graph\n",
    "final_lsa_model = LsiModel(corpus=doc_term, id2word=dictionary, num_topics=final_num_topics)\n",
    "print(final_lsa_model.print_topics(num_topics=final_num_topics, num_words=10))"
   ]
  },
  {
   "cell_type": "code",
   "execution_count": null,
   "id": "f913c36e-9397-41c4-8038-c46da1db8676",
   "metadata": {},
   "outputs": [],
   "source": []
  }
 ],
 "metadata": {
  "kernelspec": {
   "display_name": "Python 3 (ipykernel)",
   "language": "python",
   "name": "python3"
  },
  "language_info": {
   "codemirror_mode": {
    "name": "ipython",
    "version": 3
   },
   "file_extension": ".py",
   "mimetype": "text/x-python",
   "name": "python",
   "nbconvert_exporter": "python",
   "pygments_lexer": "ipython3",
   "version": "3.11.13"
  }
 },
 "nbformat": 4,
 "nbformat_minor": 5
}

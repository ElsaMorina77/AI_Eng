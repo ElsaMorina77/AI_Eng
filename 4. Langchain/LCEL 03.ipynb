{
 "cells": [
  {
   "cell_type": "markdown",
   "id": "e2501bfb-24b2-4cb3-8924-8bf1d597c796",
   "metadata": {},
   "source": [
    "Streaming\n"
   ]
  },
  {
   "cell_type": "code",
   "execution_count": 1,
   "id": "9609b6e4-08f7-42e0-8df7-390d12c4576d",
   "metadata": {},
   "outputs": [],
   "source": [
    "%load_ext dotenv"
   ]
  },
  {
   "cell_type": "code",
   "execution_count": 2,
   "id": "803e3608-5315-4040-9ed7-5717906d2676",
   "metadata": {},
   "outputs": [],
   "source": [
    "%dotenv"
   ]
  },
  {
   "cell_type": "code",
   "execution_count": 3,
   "id": "c2af25ec-f212-4162-8033-6b5810ce6ddf",
   "metadata": {},
   "outputs": [],
   "source": [
    "from langchain_core.prompts import ChatPromptTemplate\n",
    "from langchain_openai import ChatOpenAI"
   ]
  },
  {
   "cell_type": "code",
   "execution_count": 4,
   "id": "79f528bb-4edf-4943-9079-f38ff24f4298",
   "metadata": {},
   "outputs": [],
   "source": [
    "chat_template = ChatPromptTemplate.from_messages([\n",
    "    ('human', \"I've recently adopted a {pet} which is {breed}. Could you suggest several training tips?\")])"
   ]
  },
  {
   "cell_type": "code",
   "execution_count": 23,
   "id": "9108049a-04d1-493e-901e-3250cee38e30",
   "metadata": {},
   "outputs": [
    {
     "name": "stderr",
     "output_type": "stream",
     "text": [
      "/opt/anaconda3/envs/langchain_env/lib/python3.10/site-packages/IPython/core/interactiveshell.py:3519: UserWarning: Parameters {'seed'} should be specified explicitly. Instead they were passed in as part of `model_kwargs` parameter.\n",
      "  if await self.run_code(code, result, async_=asy):\n"
     ]
    }
   ],
   "source": [
    "chat = ChatOpenAI(model_name = 'gpt-4',\n",
    "                 model_kwargs = {'seed': 365},\n",
    "                 temperature = 0,\n",
    "                 max_tokens = 100)"
   ]
  },
  {
   "cell_type": "code",
   "execution_count": 24,
   "id": "508f55e4-6128-40a1-a350-9ca5dbe86786",
   "metadata": {},
   "outputs": [],
   "source": [
    "chain = chat_template | chat"
   ]
  },
  {
   "cell_type": "code",
   "execution_count": 7,
   "id": "a99e1d63-2dd5-4bd0-8a39-aeaebe36d3e4",
   "metadata": {},
   "outputs": [
    {
     "data": {
      "text/plain": [
       "AIMessage(content='1. Start Training Early: Begin training your shepherd dog as soon as you bring them home. This will help them understand their boundaries and what is expected of them.\\n\\n2. Consistency is Key: Be consistent with your commands and the way you train your dog. This will help them understand what you want from them and will make the training process easier.\\n\\n3. Use Positive Reinforcement: Always reward your dog for good behavior. This could be in the form of treats, praise, or extra play', additional_kwargs={'refusal': None}, response_metadata={'token_usage': {'completion_tokens': 100, 'prompt_tokens': 24, 'total_tokens': 124, 'completion_tokens_details': {'accepted_prediction_tokens': 0, 'audio_tokens': 0, 'reasoning_tokens': 0, 'rejected_prediction_tokens': 0}, 'prompt_tokens_details': {'audio_tokens': 0, 'cached_tokens': 0}}, 'model_name': 'gpt-4-0613', 'system_fingerprint': None, 'id': 'chatcmpl-C8j6hEnMgYmYTltW7F1JwmULIhtUZ', 'service_tier': 'default', 'finish_reason': 'length', 'logprobs': None}, id='run--07657c9c-ffa3-4da4-9626-32c57ac2d3f3-0', usage_metadata={'input_tokens': 24, 'output_tokens': 100, 'total_tokens': 124, 'input_token_details': {'audio': 0, 'cache_read': 0}, 'output_token_details': {'audio': 0, 'reasoning': 0}})"
      ]
     },
     "execution_count": 7,
     "metadata": {},
     "output_type": "execute_result"
    }
   ],
   "source": [
    "chain.invoke({'pet': 'dog', 'breed': 'shepherd'})"
   ]
  },
  {
   "cell_type": "code",
   "execution_count": 7,
   "id": "b1b26532-813a-41c1-8573-52230fdab40b",
   "metadata": {},
   "outputs": [],
   "source": [
    "#%%time\n",
    "#chain.batch([{'pet': 'dog', 'breed': 'shepherd'},\n",
    "#             {'pet': 'dragon', 'breed': 'night fury'}])"
   ]
  },
  {
   "cell_type": "code",
   "execution_count": 8,
   "id": "75ed9e6a-8bfa-497b-8345-60ace61bf4c4",
   "metadata": {},
   "outputs": [],
   "source": [
    "#%%time\n",
    "#chain.invoke({'pet': 'dog', 'breed': 'shepherd'})"
   ]
  },
  {
   "cell_type": "code",
   "execution_count": 9,
   "id": "615f8ac1-3fc6-4f9e-8f29-d511b64dc368",
   "metadata": {},
   "outputs": [],
   "source": [
    "#%%time\n",
    "#chain.invoke({'pet': 'dragon', 'breed': 'night fury'})"
   ]
  },
  {
   "cell_type": "code",
   "execution_count": 25,
   "id": "84a9fac2-e799-475c-9aac-e6d4de261fa6",
   "metadata": {},
   "outputs": [],
   "source": [
    "response = chain.stream({'pet': 'dragon', 'breed': 'night fury'})"
   ]
  },
  {
   "cell_type": "code",
   "execution_count": 22,
   "id": "06fa34bc-9ccb-46d3-b11f-9fcca89b0891",
   "metadata": {},
   "outputs": [
    {
     "ename": "StopIteration",
     "evalue": "",
     "output_type": "error",
     "traceback": [
      "\u001b[0;31m---------------------------------------------------------------------------\u001b[0m",
      "\u001b[0;31mStopIteration\u001b[0m                             Traceback (most recent call last)",
      "Cell \u001b[0;32mIn[22], line 1\u001b[0m\n\u001b[0;32m----> 1\u001b[0m \u001b[38;5;28;43mnext\u001b[39;49m\u001b[43m(\u001b[49m\u001b[43mresponse\u001b[49m\u001b[43m)\u001b[49m \n",
      "\u001b[0;31mStopIteration\u001b[0m: "
     ]
    }
   ],
   "source": [
    "next(response) "
   ]
  },
  {
   "cell_type": "code",
   "execution_count": 26,
   "id": "ddb64503-d7c2-4deb-9f1f-02480bdc51d9",
   "metadata": {},
   "outputs": [
    {
     "name": "stdout",
     "output_type": "stream",
     "text": [
      "Training a dragon, especially a Night Fury, is no small task. Here are some tips to help you:\n",
      "\n",
      "1. Establish Trust: Night Furies are intelligent and sensitive creatures. They need to trust you before they can be trained. Spend time with your dragon, talk to it, and show it that you mean no harm.\n",
      "\n",
      "2. Positive Reinforcement: Like any other pet, dragons respond well to positive reinforcement. Reward your dragon with treats or affection when it behaves well or follows a command.\n",
      "\n"
     ]
    }
   ],
   "source": [
    "for i in response:\n",
    "    print(i.content, end = '')"
   ]
  },
  {
   "cell_type": "code",
   "execution_count": null,
   "id": "6cb848af-7809-42d4-b1c7-62d383aa4126",
   "metadata": {},
   "outputs": [],
   "source": []
  }
 ],
 "metadata": {
  "kernelspec": {
   "display_name": "langchain_env",
   "language": "python",
   "name": "langchain_env"
  },
  "language_info": {
   "codemirror_mode": {
    "name": "ipython",
    "version": 3
   },
   "file_extension": ".py",
   "mimetype": "text/x-python",
   "name": "python",
   "nbconvert_exporter": "python",
   "pygments_lexer": "ipython3",
   "version": "3.10.10"
  }
 },
 "nbformat": 4,
 "nbformat_minor": 5
}

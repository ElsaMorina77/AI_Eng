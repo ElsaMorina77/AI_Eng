{
 "cells": [
  {
   "cell_type": "markdown",
   "id": "897c2d35-b0ea-4d3f-893f-7c43c6921a21",
   "metadata": {},
   "source": [
    "Few-Shot Chat Message Prompt Template"
   ]
  },
  {
   "cell_type": "code",
   "execution_count": 2,
   "id": "99dd94b9-bdc3-4d71-9798-0abd64358b21",
   "metadata": {},
   "outputs": [],
   "source": [
    "%load_ext dotenv"
   ]
  },
  {
   "cell_type": "code",
   "execution_count": 3,
   "id": "9b9b24a7-ffdb-49d8-b580-465fd1860898",
   "metadata": {},
   "outputs": [],
   "source": [
    "%dotenv"
   ]
  },
  {
   "cell_type": "code",
   "execution_count": 6,
   "id": "f5fc1eb1-fba1-4b4e-b966-e081dc0aad0b",
   "metadata": {},
   "outputs": [],
   "source": [
    "from langchain_openai.chat_models import ChatOpenAI\n",
    "\n",
    "from langchain_core.prompts.few_shot import FewShotChatMessagePromptTemplate\n",
    "from langchain_core.prompts import ChatPromptTemplate, HumanMessagePromptTemplate, AIMessagePromptTemplate\n"
   ]
  },
  {
   "cell_type": "code",
   "execution_count": 7,
   "id": "b74218ea-809f-4670-9e0a-16c0f9130485",
   "metadata": {},
   "outputs": [
    {
     "name": "stderr",
     "output_type": "stream",
     "text": [
      "/opt/anaconda3/envs/langchain_env/lib/python3.10/site-packages/IPython/core/interactiveshell.py:3519: UserWarning: Parameters {'seed'} should be specified explicitly. Instead they were passed in as part of `model_kwargs` parameter.\n",
      "  if await self.run_code(code, result, async_=asy):\n"
     ]
    }
   ],
   "source": [
    "chat = ChatOpenAI(model_name = 'gpt-4',\n",
    "                  model_kwargs = {'seed': 365},\n",
    "                  temperature = 0,\n",
    "                  max_tokens = 100\n",
    "                 )"
   ]
  },
  {
   "cell_type": "code",
   "execution_count": 8,
   "id": "a76d44ae-5436-42a8-acf4-4b7f7ffafe64",
   "metadata": {},
   "outputs": [],
   "source": [
    "TEMPLATE_H = '''I've recently adopted a {pet}.\n",
    "Could you suggest some {pet} names? '''\n",
    "\n",
    "TEMPLATE_AI = '{response}'\n",
    "\n",
    "message_template_h = HumanMessagePromptTemplate.from_template(template = TEMPLATE_H)\n",
    "message_template_ai = AIMessagePromptTemplate.from_template(template = TEMPLATE_AI)"
   ]
  },
  {
   "cell_type": "code",
   "execution_count": 9,
   "id": "ff756cd3-3cb3-421d-81d0-35849fc0710b",
   "metadata": {},
   "outputs": [],
   "source": [
    "example_template = ChatPromptTemplate.from_messages([message_template_h, message_template_ai])"
   ]
  },
  {
   "cell_type": "code",
   "execution_count": 16,
   "id": "bd244e10-4f10-4c0b-a8ad-55dea062e1bc",
   "metadata": {},
   "outputs": [],
   "source": [
    "examples = [{'pet': 'dog' , \n",
    "             'response': ''' Oh, absolutely.\n",
    "              Because I'm sure your dog is just waiting to be named by a chatbot. How about \"Bark Twain\" (if it's a literary hound)?'''}, \n",
    "            \n",
    "             {'pet': 'cat', \n",
    "              'response': ''' Oh, absolutely. Because I'm sure your cat is just dying to have its majestic independence undermined by a chatbot.\n",
    "              How about \"Meowzart\" if it’s musically gifted, or \"Chairman Meow\" if it’s plotting world domination?\n",
    "              '''}\n",
    "           ] \n",
    "\n",
    "\n",
    "\n",
    "\n",
    "\n"
   ]
  },
  {
   "cell_type": "code",
   "execution_count": 17,
   "id": "d998773e-19be-4a42-bf5c-b821f9ca61ef",
   "metadata": {},
   "outputs": [],
   "source": [
    "few_shot_prompt = FewShotChatMessagePromptTemplate(examples = examples, \n",
    "                                                   example_prompt = example_template,\n",
    "                                                   input_variables = ['pet'])"
   ]
  },
  {
   "cell_type": "code",
   "execution_count": 18,
   "id": "0c95abfa-b7b5-45d6-ae22-37c5b0b981aa",
   "metadata": {},
   "outputs": [],
   "source": [
    "chat_template = ChatPromptTemplate.from_messages([few_shot_prompt, \n",
    "                                                 message_template_h])"
   ]
  },
  {
   "cell_type": "code",
   "execution_count": 19,
   "id": "8bb0c927-622d-45b6-861e-39bc29ebad5a",
   "metadata": {},
   "outputs": [],
   "source": [
    "chat_value = chat_template.invoke({'pet': 'rabbit'})"
   ]
  },
  {
   "cell_type": "code",
   "execution_count": 20,
   "id": "8f343331-b9d6-4166-9f9c-e67dd06c10c7",
   "metadata": {},
   "outputs": [
    {
     "data": {
      "text/plain": [
       "ChatPromptValue(messages=[HumanMessage(content=\"I've recently adopted a dog.\\nCould you suggest some dog names? \", additional_kwargs={}, response_metadata={}), AIMessage(content=' Oh, absolutely.\\n              Because I\\'m sure your dog is just waiting to be named by a chatbot. How about \"Bark Twain\" (if it\\'s a literary hound)?', additional_kwargs={}, response_metadata={}), HumanMessage(content=\"I've recently adopted a cat.\\nCould you suggest some cat names? \", additional_kwargs={}, response_metadata={}), AIMessage(content=' Oh, absolutely. Because I\\'m sure your cat is just dying to have its majestic independence undermined by a chatbot.\\n              How about \"Meowzart\" if it’s musically gifted, or \"Chairman Meow\" if it’s plotting world domination?\\n              ', additional_kwargs={}, response_metadata={}), HumanMessage(content=\"I've recently adopted a rabbit.\\nCould you suggest some rabbit names? \", additional_kwargs={}, response_metadata={})])"
      ]
     },
     "execution_count": 20,
     "metadata": {},
     "output_type": "execute_result"
    }
   ],
   "source": [
    "chat_value"
   ]
  },
  {
   "cell_type": "code",
   "execution_count": 21,
   "id": "ff0d6cb4-738a-4fe9-b441-a0ccecf58fa4",
   "metadata": {},
   "outputs": [
    {
     "name": "stdout",
     "output_type": "stream",
     "text": [
      "human: I've recently adopted a dog.\n",
      "Could you suggest some dog names? \n",
      "\n",
      "ai:  Oh, absolutely.\n",
      "              Because I'm sure your dog is just waiting to be named by a chatbot. How about \"Bark Twain\" (if it's a literary hound)?\n",
      "\n",
      "human: I've recently adopted a cat.\n",
      "Could you suggest some cat names? \n",
      "\n",
      "ai:  Oh, absolutely. Because I'm sure your cat is just dying to have its majestic independence undermined by a chatbot.\n",
      "              How about \"Meowzart\" if it’s musically gifted, or \"Chairman Meow\" if it’s plotting world domination?\n",
      "              \n",
      "\n",
      "human: I've recently adopted a rabbit.\n",
      "Could you suggest some rabbit names? \n",
      "\n"
     ]
    }
   ],
   "source": [
    "for i in chat_value.messages:\n",
    "    print(f'{i.type}: {i.content}\\n')"
   ]
  },
  {
   "cell_type": "code",
   "execution_count": 22,
   "id": "629762aa-73e6-41c7-900c-7a4404edb7d2",
   "metadata": {},
   "outputs": [],
   "source": [
    "response = chat.invoke(chat_value)"
   ]
  },
  {
   "cell_type": "code",
   "execution_count": 23,
   "id": "57cbae7f-0b46-4a9d-b28b-f185186e6e41",
   "metadata": {},
   "outputs": [
    {
     "data": {
      "text/plain": [
       "AIMessage(content='Of course! How about \"Hoptimus Prime\" if it\\'s a bouncy one, or \"Bunilla Ice\" if it\\'s a cool character?', additional_kwargs={'refusal': None}, response_metadata={'token_usage': {'completion_tokens': 33, 'prompt_tokens': 162, 'total_tokens': 195, 'completion_tokens_details': {'accepted_prediction_tokens': 0, 'audio_tokens': 0, 'reasoning_tokens': 0, 'rejected_prediction_tokens': 0}, 'prompt_tokens_details': {'audio_tokens': 0, 'cached_tokens': 0}}, 'model_name': 'gpt-4-0613', 'system_fingerprint': None, 'id': 'chatcmpl-C6dImyCKKMBmkwg4UPHoz1HvpH9NV', 'service_tier': 'default', 'finish_reason': 'stop', 'logprobs': None}, id='run--d4d99466-b72d-4d47-9f66-d5c4a3f7dc20-0', usage_metadata={'input_tokens': 162, 'output_tokens': 33, 'total_tokens': 195, 'input_token_details': {'audio': 0, 'cache_read': 0}, 'output_token_details': {'audio': 0, 'reasoning': 0}})"
      ]
     },
     "execution_count": 23,
     "metadata": {},
     "output_type": "execute_result"
    }
   ],
   "source": [
    "response"
   ]
  },
  {
   "cell_type": "code",
   "execution_count": null,
   "id": "e0bb482c-5a46-442c-8d82-1cfb9ae30108",
   "metadata": {},
   "outputs": [],
   "source": []
  }
 ],
 "metadata": {
  "kernelspec": {
   "display_name": "langchain_env",
   "language": "python",
   "name": "langchain_env"
  },
  "language_info": {
   "codemirror_mode": {
    "name": "ipython",
    "version": 3
   },
   "file_extension": ".py",
   "mimetype": "text/x-python",
   "name": "python",
   "nbconvert_exporter": "python",
   "pygments_lexer": "ipython3",
   "version": "3.10.10"
  }
 },
 "nbformat": 4,
 "nbformat_minor": 5
}

{
 "cells": [
  {
   "cell_type": "markdown",
   "id": "9a2c99ff-0668-44fa-9a4b-89397d9a9321",
   "metadata": {},
   "source": [
    "Piping a RunnableParallel with Other Runnables"
   ]
  },
  {
   "cell_type": "code",
   "execution_count": 2,
   "id": "447c5ba3-c8dc-42a1-b5b9-573012bd9a47",
   "metadata": {},
   "outputs": [],
   "source": [
    "%load_ext dotenv"
   ]
  },
  {
   "cell_type": "code",
   "execution_count": 3,
   "id": "b1c8a412-7566-4f4d-8201-750189fcace7",
   "metadata": {},
   "outputs": [],
   "source": [
    "%dotenv"
   ]
  },
  {
   "cell_type": "code",
   "execution_count": 4,
   "id": "3dc562b4-f805-412c-a557-9151896c5f24",
   "metadata": {},
   "outputs": [],
   "source": [
    "from langchain_core.prompts import ChatPromptTemplate\n",
    "from langchain_openai import ChatOpenAI\n",
    "from langchain_core.output_parsers import StrOutputParser\n",
    "from langchain_core.runnables import RunnableParallel"
   ]
  },
  {
   "cell_type": "code",
   "execution_count": 5,
   "id": "b15ace3a-9392-4be8-a5be-66f5e4d36922",
   "metadata": {},
   "outputs": [],
   "source": [
    "chat_template_books = ChatPromptTemplate.from_template('''\n",
    "Suggest three of the best intermediate-level {programming language} books.\n",
    "Answer only by listing the books.\n",
    "''')\n",
    "\n",
    "\n",
    "chat_template_projects = ChatPromptTemplate.from_template('''\n",
    "Suggest three interesting {programming language} projects suitable for intermediate-level programmers. \n",
    "Answer only by listing the projects.\n",
    "''')\n",
    "\n",
    "chat_template_time = ChatPromptTemplate.from_template(\n",
    "    '''\n",
    "    I'm an intermediate level programmer. \n",
    "\n",
    "    Consider the following literature:\n",
    "    {books}\n",
    "\n",
    "    Also, consider the following projrcts: \n",
    "    {projects}\n",
    "\n",
    "    Roughly how much time would it take me to complete the literature and the projects? \n",
    "    '''\n",
    ")"
   ]
  },
  {
   "cell_type": "code",
   "execution_count": 6,
   "id": "c3b0bf4f-1784-4cff-91df-b6c9a5d9840d",
   "metadata": {},
   "outputs": [
    {
     "name": "stderr",
     "output_type": "stream",
     "text": [
      "/opt/anaconda3/envs/langchain_env/lib/python3.10/site-packages/IPython/core/interactiveshell.py:3519: UserWarning: Parameters {'seed'} should be specified explicitly. Instead they were passed in as part of `model_kwargs` parameter.\n",
      "  if await self.run_code(code, result, async_=asy):\n"
     ]
    }
   ],
   "source": [
    "chat = ChatOpenAI(\n",
    "    model_name = 'gpt-4',\n",
    "    model_kwargs = {'seed':365},\n",
    "    temperature = 0,\n",
    "    max_tokens = 500\n",
    ")"
   ]
  },
  {
   "cell_type": "code",
   "execution_count": 7,
   "id": "88c0fb54-ea98-40e2-97a3-da9b954007fb",
   "metadata": {},
   "outputs": [],
   "source": [
    "string_parser = StrOutputParser()"
   ]
  },
  {
   "cell_type": "code",
   "execution_count": 8,
   "id": "48d8f625-5777-4d72-933e-7bd1a600a539",
   "metadata": {},
   "outputs": [],
   "source": [
    "chain_books = chat_template_books | chat | string_parser\n",
    "\n",
    "chain_projects = chat_template_projects | chat | string_parser"
   ]
  },
  {
   "cell_type": "code",
   "execution_count": 9,
   "id": "fbaa137e-375e-4be3-8a35-3d3f91aed1b7",
   "metadata": {},
   "outputs": [],
   "source": [
    "chain_parallel = RunnableParallel({'books': chain_books, 'projects': chain_projects})"
   ]
  },
  {
   "cell_type": "code",
   "execution_count": 10,
   "id": "1e615079-37e6-4dd4-8e69-498c37294b88",
   "metadata": {},
   "outputs": [
    {
     "data": {
      "text/plain": [
       "{'books': '1. \"Fluent Python: Clear, Concise, and Effective Programming\" by Luciano Ramalho\\n2. \"Python Cookbook: Recipes for Mastering Python 3\" by David Beazley and Brian K. Jones\\n3. \"Effective Python: 90 Specific Ways to Write Better Python\" by Brett Slatkin',\n",
       " 'projects': '1. Building a Web Scraper using BeautifulSoup\\n2. Developing a simple Machine Learning model using Scikit-learn\\n3. Creating a GUI application using Tkinter'}"
      ]
     },
     "execution_count": 10,
     "metadata": {},
     "output_type": "execute_result"
    }
   ],
   "source": [
    "chain_parallel.invoke({'programming language': 'Python'})"
   ]
  },
  {
   "cell_type": "code",
   "execution_count": 14,
   "id": "6c6e2e0e-77fd-42f4-9aca-a913fa89c9da",
   "metadata": {},
   "outputs": [],
   "source": [
    "chain_time1 = (RunnableParallel({'books': chain_books, 'projects': chain_projects}) \n",
    "             | chat_template_time | chat | string_parser)"
   ]
  },
  {
   "cell_type": "code",
   "execution_count": 15,
   "id": "528dc79c-48e3-4d5f-8324-8d203bff75ec",
   "metadata": {},
   "outputs": [],
   "source": [
    "chain_time2 = ({'books': chain_books, 'projects': chain_projects}\n",
    "             | chat_template_time | chat | string_parser)"
   ]
  },
  {
   "cell_type": "code",
   "execution_count": 16,
   "id": "774280f7-2779-4c79-8bf7-c81e988cc916",
   "metadata": {},
   "outputs": [
    {
     "name": "stdout",
     "output_type": "stream",
     "text": [
      "The time it takes to complete the literature and the projects can vary greatly depending on several factors such as your reading speed, comprehension level, the complexity of the projects, and the amount of time you can dedicate each day. \n",
      "\n",
      "However, as a rough estimate:\n",
      "\n",
      "1. \"Fluent Python: Clear, Concise, and Effective Programming\" - This book is around 800 pages. If you read and practice for about 2 hours a day, it might take you around 2-3 months to complete.\n",
      "\n",
      "2. \"Python Cookbook: Recipes for Mastering Python 3\" - This book is around 700 pages. Again, if you read and practice for about 2 hours a day, it might take you around 2-3 months to complete.\n",
      "\n",
      "3. \"Effective Python: 90 Specific Ways to Write Better Python\" - This book is around 230 pages. If you read and practice for about 2 hours a day, it might take you around 3-4 weeks to complete.\n",
      "\n",
      "For the projects:\n",
      "\n",
      "1. Building a Web Scraper using BeautifulSoup - If you work on it for about 2-3 hours a day, it might take you around 1-2 weeks to complete, depending on the complexity of the web pages you are scraping.\n",
      "\n",
      "2. Developing a Text-Based Adventure Game - If you work on it for about 2-3 hours a day, it might take you around 2-3 weeks to complete, depending on the complexity of the game.\n",
      "\n",
      "3. Creating a Personal Finance Tracker with Data Visualization - If you work on it for about 2-3 hours a day, it might take you around 2-3 weeks to complete, depending on the complexity of the tracker and the data visualization.\n",
      "\n",
      "So in total, if you work on these tasks for about 2-3 hours a day, it might take you around 6-8 months to complete everything. This is just a rough estimate and the actual time could be more or less depending on the factors mentioned above.\n"
     ]
    }
   ],
   "source": [
    "print(chain_time2.invoke({'programming language': 'Python'}))"
   ]
  },
  {
   "cell_type": "code",
   "execution_count": 17,
   "id": "cd30b812-bf3a-4154-baa4-c9b3dd94a29c",
   "metadata": {},
   "outputs": [
    {
     "name": "stdout",
     "output_type": "stream",
     "text": [
      "            +-------------------------------+              \n",
      "            | Parallel<books,projects>Input |              \n",
      "            +-------------------------------+              \n",
      "                   ***               ***                   \n",
      "                ***                     ***                \n",
      "              **                           **              \n",
      "+--------------------+              +--------------------+ \n",
      "| ChatPromptTemplate |              | ChatPromptTemplate | \n",
      "+--------------------+              +--------------------+ \n",
      "           *                                   *           \n",
      "           *                                   *           \n",
      "           *                                   *           \n",
      "    +------------+                      +------------+     \n",
      "    | ChatOpenAI |                      | ChatOpenAI |     \n",
      "    +------------+                      +------------+     \n",
      "           *                                   *           \n",
      "           *                                   *           \n",
      "           *                                   *           \n",
      "  +-----------------+                 +-----------------+  \n",
      "  | StrOutputParser |                 | StrOutputParser |  \n",
      "  +-----------------+                 +-----------------+  \n",
      "                   ***               ***                   \n",
      "                      ***         ***                      \n",
      "                         **     **                         \n",
      "            +--------------------------------+             \n",
      "            | Parallel<books,projects>Output |             \n",
      "            +--------------------------------+             \n",
      "                             *                             \n",
      "                             *                             \n",
      "                             *                             \n",
      "                  +--------------------+                   \n",
      "                  | ChatPromptTemplate |                   \n",
      "                  +--------------------+                   \n",
      "                             *                             \n",
      "                             *                             \n",
      "                             *                             \n",
      "                      +------------+                       \n",
      "                      | ChatOpenAI |                       \n",
      "                      +------------+                       \n",
      "                             *                             \n",
      "                             *                             \n",
      "                             *                             \n",
      "                    +-----------------+                    \n",
      "                    | StrOutputParser |                    \n",
      "                    +-----------------+                    \n",
      "                             *                             \n",
      "                             *                             \n",
      "                             *                             \n",
      "                +-----------------------+                  \n",
      "                | StrOutputParserOutput |                  \n",
      "                +-----------------------+                  \n"
     ]
    }
   ],
   "source": [
    "chain_time2.get_graph().print_ascii()"
   ]
  },
  {
   "cell_type": "code",
   "execution_count": null,
   "id": "16bcb48f-6d60-441e-bdcf-3136d89bb3fb",
   "metadata": {},
   "outputs": [],
   "source": [
    "## using the %%time, compared the time it takes the chains individualy and in parallel. of course in parallel takes less walltime"
   ]
  }
 ],
 "metadata": {
  "kernelspec": {
   "display_name": "langchain_env",
   "language": "python",
   "name": "langchain_env"
  },
  "language_info": {
   "codemirror_mode": {
    "name": "ipython",
    "version": 3
   },
   "file_extension": ".py",
   "mimetype": "text/x-python",
   "name": "python",
   "nbconvert_exporter": "python",
   "pygments_lexer": "ipython3",
   "version": "3.10.10"
  }
 },
 "nbformat": 4,
 "nbformat_minor": 5
}

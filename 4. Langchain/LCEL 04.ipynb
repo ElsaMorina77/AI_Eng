{
 "cells": [
  {
   "cell_type": "markdown",
   "id": "e2501bfb-24b2-4cb3-8924-8bf1d597c796",
   "metadata": {},
   "source": [
    "The Runnable and RunnableSequence Classes"
   ]
  },
  {
   "cell_type": "code",
   "execution_count": 1,
   "id": "9609b6e4-08f7-42e0-8df7-390d12c4576d",
   "metadata": {},
   "outputs": [],
   "source": [
    "%load_ext dotenv"
   ]
  },
  {
   "cell_type": "code",
   "execution_count": 2,
   "id": "803e3608-5315-4040-9ed7-5717906d2676",
   "metadata": {},
   "outputs": [],
   "source": [
    "%dotenv"
   ]
  },
  {
   "cell_type": "code",
   "execution_count": 3,
   "id": "c2af25ec-f212-4162-8033-6b5810ce6ddf",
   "metadata": {},
   "outputs": [],
   "source": [
    "from langchain_core.prompts import ChatPromptTemplate\n",
    "from langchain_openai import ChatOpenAI"
   ]
  },
  {
   "cell_type": "code",
   "execution_count": 4,
   "id": "79f528bb-4edf-4943-9079-f38ff24f4298",
   "metadata": {},
   "outputs": [],
   "source": [
    "chat_template = ChatPromptTemplate.from_messages([\n",
    "    ('human', \"I've recently adopted a {pet} which is {breed}. Could you suggest several training tips?\")])"
   ]
  },
  {
   "cell_type": "code",
   "execution_count": 5,
   "id": "9108049a-04d1-493e-901e-3250cee38e30",
   "metadata": {},
   "outputs": [
    {
     "name": "stderr",
     "output_type": "stream",
     "text": [
      "/opt/anaconda3/envs/langchain_env/lib/python3.10/site-packages/IPython/core/interactiveshell.py:3519: UserWarning: Parameters {'seed'} should be specified explicitly. Instead they were passed in as part of `model_kwargs` parameter.\n",
      "  if await self.run_code(code, result, async_=asy):\n"
     ]
    }
   ],
   "source": [
    "chat = ChatOpenAI(model_name = 'gpt-4',\n",
    "                 model_kwargs = {'seed': 365},\n",
    "                 temperature = 0,\n",
    "                 max_tokens = 100)"
   ]
  },
  {
   "cell_type": "code",
   "execution_count": 6,
   "id": "508f55e4-6128-40a1-a350-9ca5dbe86786",
   "metadata": {},
   "outputs": [],
   "source": [
    "chain = chat_template | chat"
   ]
  },
  {
   "cell_type": "code",
   "execution_count": 8,
   "id": "6cb848af-7809-42d4-b1c7-62d383aa4126",
   "metadata": {},
   "outputs": [
    {
     "data": {
      "text/plain": [
       "langchain_core.prompts.chat.ChatPromptTemplate"
      ]
     },
     "execution_count": 8,
     "metadata": {},
     "output_type": "execute_result"
    }
   ],
   "source": [
    "type(chat_template)"
   ]
  },
  {
   "cell_type": "code",
   "execution_count": null,
   "id": "32df94e5-851a-454a-82dd-a301d74fdce8",
   "metadata": {},
   "outputs": [],
   "source": []
  },
  {
   "cell_type": "code",
   "execution_count": null,
   "id": "8a9fb94c-ed35-42e0-8266-3bc1289e4daa",
   "metadata": {},
   "outputs": [],
   "source": []
  },
  {
   "cell_type": "code",
   "execution_count": null,
   "id": "64e53169-bb40-4d49-8ab2-ae297e1aaa39",
   "metadata": {},
   "outputs": [],
   "source": []
  },
  {
   "cell_type": "code",
   "execution_count": null,
   "id": "5b9904a9-b72a-424e-bb94-eba8190ebacf",
   "metadata": {},
   "outputs": [],
   "source": []
  },
  {
   "cell_type": "code",
   "execution_count": null,
   "id": "89fa1475-db3b-43b4-89c6-9131a394c529",
   "metadata": {},
   "outputs": [],
   "source": []
  }
 ],
 "metadata": {
  "kernelspec": {
   "display_name": "langchain_env",
   "language": "python",
   "name": "langchain_env"
  },
  "language_info": {
   "codemirror_mode": {
    "name": "ipython",
    "version": 3
   },
   "file_extension": ".py",
   "mimetype": "text/x-python",
   "name": "python",
   "nbconvert_exporter": "python",
   "pygments_lexer": "ipython3",
   "version": "3.10.10"
  }
 },
 "nbformat": 4,
 "nbformat_minor": 5
}

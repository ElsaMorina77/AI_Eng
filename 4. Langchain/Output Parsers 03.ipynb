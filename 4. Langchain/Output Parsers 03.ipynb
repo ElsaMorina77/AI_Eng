{
 "cells": [
  {
   "cell_type": "markdown",
   "id": "7e4f79e3-d3bd-40d8-9158-b4714230bd79",
   "metadata": {},
   "source": [
    "Datetime Output Parser"
   ]
  },
  {
   "cell_type": "code",
   "execution_count": 1,
   "id": "a9f0e7f4-605f-48ba-8622-efa23a514db4",
   "metadata": {},
   "outputs": [],
   "source": [
    "%load_ext dotenv\n"
   ]
  },
  {
   "cell_type": "code",
   "execution_count": 2,
   "id": "b973f3b2-348a-4cae-a84b-3c01d9f90377",
   "metadata": {},
   "outputs": [],
   "source": [
    "%dotenv"
   ]
  },
  {
   "cell_type": "code",
   "execution_count": 5,
   "id": "aac1fdf8-fcd7-4216-a91b-adeabf1ae9fd",
   "metadata": {},
   "outputs": [],
   "source": [
    "from langchain_openai.chat_models import ChatOpenAI\n",
    "from langchain_core.messages import HumanMessage\n",
    "from langchain.output_parsers.datetime import DatetimeOutputParser"
   ]
  },
  {
   "cell_type": "code",
   "execution_count": 6,
   "id": "78d46749-db9a-4a64-b3cf-bb6192c24ebd",
   "metadata": {},
   "outputs": [
    {
     "name": "stderr",
     "output_type": "stream",
     "text": [
      "/opt/anaconda3/envs/langchain_env/lib/python3.10/site-packages/IPython/core/interactiveshell.py:3519: UserWarning: Parameters {'seed'} should be specified explicitly. Instead they were passed in as part of `model_kwargs` parameter.\n",
      "  if await self.run_code(code, result, async_=asy):\n"
     ]
    }
   ],
   "source": [
    "chat = ChatOpenAI(model_name = 'gpt-4',\n",
    "                  model_kwargs = {'seed':365},\n",
    "                  temperature = 0, \n",
    "                 max_tokens = 100)"
   ]
  },
  {
   "cell_type": "code",
   "execution_count": 13,
   "id": "8ff9db3c-484d-46b2-a430-db82665fbd8b",
   "metadata": {},
   "outputs": [],
   "source": [
    "message_h = HumanMessage(content = f'''When was the Danish poet Piet Hein born?\n",
    "\n",
    "{DatetimeOutputParser().get_format_instructions()}\n",
    "''')\n"
   ]
  },
  {
   "cell_type": "code",
   "execution_count": 14,
   "id": "d9962204-6ced-4159-91fd-b72fb2d46ad8",
   "metadata": {},
   "outputs": [
    {
     "name": "stdout",
     "output_type": "stream",
     "text": [
      "When was the Danish poet Piet Hein born?\n",
      "\n",
      "Write a datetime string that matches the following pattern: '%Y-%m-%dT%H:%M:%S.%fZ'.\n",
      "\n",
      "Examples: 2023-07-04T14:30:00.000000Z, 1999-12-31T23:59:59.999999Z, 2025-01-01T00:00:00.000000Z\n",
      "\n",
      "Return ONLY this string, no other words!\n",
      "\n"
     ]
    }
   ],
   "source": [
    "print(message_h.content)"
   ]
  },
  {
   "cell_type": "code",
   "execution_count": 15,
   "id": "8f7b8fc2-2b08-4138-a440-a7fb30358791",
   "metadata": {},
   "outputs": [
    {
     "name": "stdout",
     "output_type": "stream",
     "text": [
      "1905-12-16T00:00:00.000000Z\n"
     ]
    }
   ],
   "source": [
    "response = chat.invoke([message_h])\n",
    "print(response.content)"
   ]
  },
  {
   "cell_type": "code",
   "execution_count": 16,
   "id": "2e7421a2-3c2e-4286-ba0a-88c7c11b8717",
   "metadata": {},
   "outputs": [],
   "source": [
    "date_output_parser = DatetimeOutputParser()"
   ]
  },
  {
   "cell_type": "code",
   "execution_count": 17,
   "id": "b2b0596e-bcf9-4891-b67b-f1609730d55e",
   "metadata": {},
   "outputs": [],
   "source": [
    "response_parsed = date_output_parser.invoke(response)"
   ]
  },
  {
   "cell_type": "code",
   "execution_count": 18,
   "id": "51079bf7-d08b-4270-9b8c-5b2a8786a024",
   "metadata": {},
   "outputs": [
    {
     "data": {
      "text/plain": [
       "datetime.datetime(1905, 12, 16, 0, 0)"
      ]
     },
     "execution_count": 18,
     "metadata": {},
     "output_type": "execute_result"
    }
   ],
   "source": [
    "response_parsed"
   ]
  },
  {
   "cell_type": "code",
   "execution_count": 12,
   "id": "5364a823-72f8-4887-ae74-72ed6d2874a3",
   "metadata": {},
   "outputs": [
    {
     "name": "stdout",
     "output_type": "stream",
     "text": [
      "Write a datetime string that matches the following pattern: '%Y-%m-%dT%H:%M:%S.%fZ'.\n",
      "\n",
      "Examples: 2023-07-04T14:30:00.000000Z, 1999-12-31T23:59:59.999999Z, 2025-01-01T00:00:00.000000Z\n",
      "\n",
      "Return ONLY this string, no other words!\n"
     ]
    }
   ],
   "source": [
    "print(date_output_parser.get_format_instructions())"
   ]
  },
  {
   "cell_type": "code",
   "execution_count": null,
   "id": "dc5edf42-4104-4fe1-816f-80460563621a",
   "metadata": {},
   "outputs": [],
   "source": []
  }
 ],
 "metadata": {
  "kernelspec": {
   "display_name": "langchain_env",
   "language": "python",
   "name": "langchain_env"
  },
  "language_info": {
   "codemirror_mode": {
    "name": "ipython",
    "version": 3
   },
   "file_extension": ".py",
   "mimetype": "text/x-python",
   "name": "python",
   "nbconvert_exporter": "python",
   "pygments_lexer": "ipython3",
   "version": "3.10.10"
  }
 },
 "nbformat": 4,
 "nbformat_minor": 5
}

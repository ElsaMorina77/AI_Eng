{
 "cells": [
  {
   "cell_type": "markdown",
   "id": "46071deb-8c97-428b-9213-a4e0bb442d3a",
   "metadata": {},
   "source": [
    "Piping Chains and the RunnablePassthrough Class"
   ]
  },
  {
   "cell_type": "code",
   "execution_count": 1,
   "id": "447c5ba3-c8dc-42a1-b5b9-573012bd9a47",
   "metadata": {},
   "outputs": [],
   "source": [
    "%load_ext dotenv"
   ]
  },
  {
   "cell_type": "code",
   "execution_count": 2,
   "id": "b1c8a412-7566-4f4d-8201-750189fcace7",
   "metadata": {},
   "outputs": [],
   "source": [
    "%dotenv"
   ]
  },
  {
   "cell_type": "code",
   "execution_count": 3,
   "id": "3dc562b4-f805-412c-a557-9151896c5f24",
   "metadata": {},
   "outputs": [],
   "source": [
    "from langchain_core.prompts import ChatPromptTemplate\n",
    "from langchain_openai import ChatOpenAI\n",
    "from langchain_core.output_parsers import StrOutputParser\n",
    "from langchain_core.runnables import RunnablePassthrough"
   ]
  },
  {
   "cell_type": "code",
   "execution_count": 5,
   "id": "063f7b92-f224-4505-9e5f-d000bf046437",
   "metadata": {},
   "outputs": [
    {
     "data": {
      "text/plain": [
       "[1, 2, 3]"
      ]
     },
     "execution_count": 5,
     "metadata": {},
     "output_type": "execute_result"
    }
   ],
   "source": [
    "RunnablePassthrough().invoke([1,2,3]) # kind of like an identity function for langchain"
   ]
  },
  {
   "cell_type": "code",
   "execution_count": 8,
   "id": "b15ace3a-9392-4be8-a5be-66f5e4d36922",
   "metadata": {},
   "outputs": [],
   "source": [
    "chat_template_tools = ChatPromptTemplate.from_template('''\n",
    "What are the five most important tools a {job title} needs?\n",
    "Answer only by listing the tools.\n",
    "''')\n",
    "\n",
    "\n",
    "chat_template_strategy = ChatPromptTemplate.from_template('''\n",
    "Considering the tools provided, develop a strategy for effectively learning and mastering them:\n",
    "{tools}\n",
    "''')"
   ]
  },
  {
   "cell_type": "code",
   "execution_count": 9,
   "id": "b0d3b604-bf4b-449a-b500-a7131c1ef9d3",
   "metadata": {},
   "outputs": [
    {
     "data": {
      "text/plain": [
       "ChatPromptTemplate(input_variables=['job title'], input_types={}, partial_variables={}, messages=[HumanMessagePromptTemplate(prompt=PromptTemplate(input_variables=['job title'], input_types={}, partial_variables={}, template='\\nWhat are the five most important tools a {job title} needs?\\nAnswer only by listing the tools.\\n'), additional_kwargs={})])"
      ]
     },
     "execution_count": 9,
     "metadata": {},
     "output_type": "execute_result"
    }
   ],
   "source": [
    "chat_template_tools"
   ]
  },
  {
   "cell_type": "code",
   "execution_count": 10,
   "id": "c3b0bf4f-1784-4cff-91df-b6c9a5d9840d",
   "metadata": {},
   "outputs": [
    {
     "name": "stderr",
     "output_type": "stream",
     "text": [
      "/opt/anaconda3/envs/langchain_env/lib/python3.10/site-packages/IPython/core/interactiveshell.py:3519: UserWarning: Parameters {'seed'} should be specified explicitly. Instead they were passed in as part of `model_kwargs` parameter.\n",
      "  if await self.run_code(code, result, async_=asy):\n"
     ]
    }
   ],
   "source": [
    "chat = ChatOpenAI(\n",
    "    model_name = 'gpt-4',\n",
    "    model_kwargs = {'seed':365},\n",
    "    temperature = 0,\n",
    "    max_tokens = 100\n",
    ")"
   ]
  },
  {
   "cell_type": "code",
   "execution_count": 11,
   "id": "88c0fb54-ea98-40e2-97a3-da9b954007fb",
   "metadata": {},
   "outputs": [],
   "source": [
    "string_parser = StrOutputParser()"
   ]
  },
  {
   "cell_type": "code",
   "execution_count": 17,
   "id": "8f23627d-376a-452f-9f41-bc17c728017a",
   "metadata": {},
   "outputs": [],
   "source": [
    "chain_tools = chat_template_tools | chat | string_parser | {'tools': RunnablePassthrough()}\n",
    "chain_strategy = chat_template_strategy | chat | string_parser\n"
   ]
  },
  {
   "cell_type": "code",
   "execution_count": 18,
   "id": "d35b86f4-c111-4ff6-8b36-a8a899b72393",
   "metadata": {},
   "outputs": [
    {
     "name": "stdout",
     "output_type": "stream",
     "text": [
      "{'tools': '1. Python\\n2. R Programming\\n3. SQL\\n4. Tableau\\n5. Hadoop'}\n"
     ]
    }
   ],
   "source": [
    "print(chain_tools.invoke({'job title': 'data scientist'}))"
   ]
  },
  {
   "cell_type": "code",
   "execution_count": 16,
   "id": "572114fe-5af6-4c3d-9980-4e549a21efee",
   "metadata": {},
   "outputs": [
    {
     "name": "stdout",
     "output_type": "stream",
     "text": [
      "1. Python: Start with the basics of Python, such as variables, data types, loops, and functions. Once you have a good understanding of these, move on to more complex topics like classes and objects. Use online resources like Codecademy, Coursera, or edX for structured learning. Practice coding problems on platforms like LeetCode or HackerRank. Work on small projects to apply what you've learned.\n",
      "\n",
      "2. R Programming Language: Start with the basics of R, such as\n"
     ]
    }
   ],
   "source": [
    "print(chain_strategy.invoke({'tools': '''\n",
    "1. Python\n",
    "2. R Programming Language\n",
    "3. SQL (Structured Query Language)\n",
    "4. Tableau\n",
    "5. Apache Hadoop\n",
    "'''}))"
   ]
  },
  {
   "cell_type": "code",
   "execution_count": 19,
   "id": "68e5b8ac-97ed-4ada-9a33-2a1f60f718ec",
   "metadata": {},
   "outputs": [],
   "source": [
    "chain_combined = chain_tools | chain_strategy"
   ]
  },
  {
   "cell_type": "code",
   "execution_count": 20,
   "id": "272a9bd6-931b-437b-8856-7ddce5f218df",
   "metadata": {},
   "outputs": [
    {
     "name": "stdout",
     "output_type": "stream",
     "text": [
      "1. Python: Start with the basics of Python, such as variables, data types, loops, and functions. Once you have a good understanding of these, move on to more complex topics like classes and objects. Use online resources like Codecademy, Coursera, or edX for structured learning. Practice coding problems on platforms like LeetCode or HackerRank. Work on small projects to apply what you've learned.\n",
      "\n",
      "2. R Programming Language: Start with the basics of R, such as\n"
     ]
    }
   ],
   "source": [
    "print(chain_combined.invoke({'job title': 'data scientist'}))"
   ]
  },
  {
   "cell_type": "code",
   "execution_count": 21,
   "id": "48d8f625-5777-4d72-933e-7bd1a600a539",
   "metadata": {},
   "outputs": [],
   "source": [
    "chain_long = ( chat_template_tools | chat | string_parser | {'tools': RunnablePassthrough()}| \n",
    "                chat_template_strategy | chat | string_parser )"
   ]
  },
  {
   "cell_type": "code",
   "execution_count": null,
   "id": "70570f99-722b-440c-ba3f-dd420e2c4c1c",
   "metadata": {},
   "outputs": [],
   "source": []
  }
 ],
 "metadata": {
  "kernelspec": {
   "display_name": "langchain_env",
   "language": "python",
   "name": "langchain_env"
  },
  "language_info": {
   "codemirror_mode": {
    "name": "ipython",
    "version": 3
   },
   "file_extension": ".py",
   "mimetype": "text/x-python",
   "name": "python",
   "nbconvert_exporter": "python",
   "pygments_lexer": "ipython3",
   "version": "3.10.10"
  }
 },
 "nbformat": 4,
 "nbformat_minor": 5
}

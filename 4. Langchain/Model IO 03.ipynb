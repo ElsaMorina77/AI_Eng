{
 "cells": [
  {
   "cell_type": "markdown",
   "id": "a4686a74-919c-43a9-9bbb-22bf97593568",
   "metadata": {},
   "source": [
    "AI Messages"
   ]
  },
  {
   "cell_type": "code",
   "execution_count": 9,
   "id": "fed508ef-17cd-4a96-bf99-9be6e5ff1ff9",
   "metadata": {},
   "outputs": [
    {
     "name": "stdout",
     "output_type": "stream",
     "text": [
      "The dotenv extension is already loaded. To reload it, use:\n",
      "  %reload_ext dotenv\n"
     ]
    }
   ],
   "source": [
    "%load_ext dotenv"
   ]
  },
  {
   "cell_type": "code",
   "execution_count": 10,
   "id": "661aaa91-d522-4dcf-b740-a0d7c1d6fcad",
   "metadata": {},
   "outputs": [],
   "source": [
    "%dotenv"
   ]
  },
  {
   "cell_type": "code",
   "execution_count": 11,
   "id": "471e39a2-c321-47bd-bc04-4634f6b4e541",
   "metadata": {},
   "outputs": [],
   "source": [
    "from langchain_openai.chat_models import ChatOpenAI\n",
    "from langchain_core.messages import HumanMessage, AIMessage"
   ]
  },
  {
   "cell_type": "code",
   "execution_count": 12,
   "id": "fa1dec63-a5f9-4a20-a764-307b3f44ac84",
   "metadata": {},
   "outputs": [
    {
     "name": "stderr",
     "output_type": "stream",
     "text": [
      "/opt/anaconda3/envs/langchain_env/lib/python3.10/site-packages/IPython/core/interactiveshell.py:3519: UserWarning: Parameters {'seed'} should be specified explicitly. Instead they were passed in as part of `model_kwargs` parameter.\n",
      "  if await self.run_code(code, result, async_=asy):\n"
     ]
    }
   ],
   "source": [
    "chat = ChatOpenAI(model_name = 'gpt-4',\n",
    "                 model_kwargs = {'seed': 365},\n",
    "                 temperature =0,\n",
    "                 max_tokens = 100)"
   ]
  },
  {
   "cell_type": "code",
   "execution_count": 19,
   "id": "ba566249-0ba7-4dab-ad11-6cbad6c83362",
   "metadata": {},
   "outputs": [
    {
     "name": "stdout",
     "output_type": "stream",
     "text": [
      "The history saving thread hit an unexpected error (OperationalError('attempt to write a readonly database')).History will not be written to the database.\n"
     ]
    }
   ],
   "source": [
    "message_h_dog = HumanMessage(content = '''I've recently adopted a dog. Can you suggest some dog names?''')\n",
    "\n",
    "message_ai_dog = AIMessage(content = '''Oh, absolutely. Because I'm sure your dog is just waiting to be named by a chatbot. How about \"Bark Twain\" if it's a literary hound, or \"Sir Waggington\" if it's a bit posh? Maybe \"Bark Zuckerberg\" if it's tech-savvy? Or, you know, you could just stick with \"Fido\" or \"Spot\" like a normal person.''')\n",
    "\n",
    "\n",
    "message_h_cat = HumanMessage(content = '''I've recently adopted a cat. Can you suggest some cat names?''')\n",
    "message_ai_cat = AIMessage(content = '''Oh, absolutely. Because I'm sure your cat is just dying to have its majestic independence undermined by a chatbot. How about \"Meowzart\" if it’s musically gifted, or \"Chairman Meow\" if it’s plotting world domination? Maybe \"Clawdia\" if it’s got a touch of elegance, or \"Furrball McWhiskers\" if you just gave up. Or, you know, you could just stick with \"Mittens\" or \"Fluffy\" like a normal person.''')\n",
    "\n",
    "\n",
    "message_h_fish = HumanMessage(content = '''I've recently adopted a fish. Can you suggest some fish names?''')\n",
    "\n",
    "\n"
   ]
  },
  {
   "cell_type": "code",
   "execution_count": 20,
   "id": "0216e075-bb59-44ea-8442-3c3290dcc3aa",
   "metadata": {},
   "outputs": [],
   "source": [
    "response = chat.invoke([message_h_dog, message_ai_dog, message_h_cat, message_ai_cat,message_h_fish ])"
   ]
  },
  {
   "cell_type": "code",
   "execution_count": 21,
   "id": "f93564e1-3ab3-4556-9356-8eafeb9428ed",
   "metadata": {},
   "outputs": [
    {
     "name": "stdout",
     "output_type": "stream",
     "text": [
      "Absolutely! Naming a fish can be a fun task. Here are some suggestions: \"Finley\", \"Bubbles\", \"Goldie\", \"Nemo\", \"Dory\", \"Sushi\", \"Gill\", \"Splash\", \"Aqua\", \"Poseidon\", \"Neptune\", \"Atlantis\", \"Coral\", \"Marlin\", \"Ocean\", \"Waverly\", \"Captain\", \"Squirt\", \"Pisces\", \"Tide\", or \"Wave\".\n"
     ]
    }
   ],
   "source": [
    "print(response.content)"
   ]
  },
  {
   "cell_type": "code",
   "execution_count": null,
   "id": "1a4f7f60-d552-4e37-b2c7-71cd9f19e6ea",
   "metadata": {},
   "outputs": [],
   "source": []
  }
 ],
 "metadata": {
  "kernelspec": {
   "display_name": "langchain_env",
   "language": "python",
   "name": "langchain_env"
  },
  "language_info": {
   "codemirror_mode": {
    "name": "ipython",
    "version": 3
   },
   "file_extension": ".py",
   "mimetype": "text/x-python",
   "name": "python",
   "nbconvert_exporter": "python",
   "pygments_lexer": "ipython3",
   "version": "3.10.10"
  }
 },
 "nbformat": 4,
 "nbformat_minor": 5
}

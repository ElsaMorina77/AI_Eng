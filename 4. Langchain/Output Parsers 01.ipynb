{
 "cells": [
  {
   "cell_type": "markdown",
   "id": "7e4f79e3-d3bd-40d8-9158-b4714230bd79",
   "metadata": {},
   "source": [
    "String Output Parser \n"
   ]
  },
  {
   "cell_type": "code",
   "execution_count": 1,
   "id": "a9f0e7f4-605f-48ba-8622-efa23a514db4",
   "metadata": {},
   "outputs": [],
   "source": [
    "%load_ext dotenv\n"
   ]
  },
  {
   "cell_type": "code",
   "execution_count": 2,
   "id": "b973f3b2-348a-4cae-a84b-3c01d9f90377",
   "metadata": {},
   "outputs": [],
   "source": [
    "%dotenv"
   ]
  },
  {
   "cell_type": "code",
   "execution_count": 4,
   "id": "aac1fdf8-fcd7-4216-a91b-adeabf1ae9fd",
   "metadata": {},
   "outputs": [],
   "source": [
    "from langchain_openai.chat_models import ChatOpenAI\n",
    "from langchain_core.messages import HumanMessage \n",
    "from langchain_core.output_parsers import StrOutputParser"
   ]
  },
  {
   "cell_type": "code",
   "execution_count": 5,
   "id": "78d46749-db9a-4a64-b3cf-bb6192c24ebd",
   "metadata": {},
   "outputs": [
    {
     "name": "stderr",
     "output_type": "stream",
     "text": [
      "/opt/anaconda3/envs/langchain_env/lib/python3.10/site-packages/IPython/core/interactiveshell.py:3519: UserWarning: Parameters {'seed'} should be specified explicitly. Instead they were passed in as part of `model_kwargs` parameter.\n",
      "  if await self.run_code(code, result, async_=asy):\n"
     ]
    }
   ],
   "source": [
    "chat = ChatOpenAI(model_name = 'gpt-4',\n",
    "                  model_kwargs = {'seed':365},\n",
    "                  temperature = 0, \n",
    "                 max_tokens = 100)"
   ]
  },
  {
   "cell_type": "code",
   "execution_count": 7,
   "id": "8ff9db3c-484d-46b2-a430-db82665fbd8b",
   "metadata": {},
   "outputs": [],
   "source": [
    "message_h = HumanMessage(content = \"Can you give me an interesting fact I probably didn't know about?\")"
   ]
  },
  {
   "cell_type": "code",
   "execution_count": 8,
   "id": "8f7b8fc2-2b08-4138-a440-a7fb30358791",
   "metadata": {},
   "outputs": [],
   "source": [
    "response = chat.invoke([message_h])"
   ]
  },
  {
   "cell_type": "code",
   "execution_count": 9,
   "id": "0da488b7-28d5-40b0-a5b8-d058f1660dbb",
   "metadata": {},
   "outputs": [
    {
     "data": {
      "text/plain": [
       "AIMessage(content='Sure, did you know that octopuses have three hearts? Two pump blood to the gills, while the third pumps it to the rest of the body.', additional_kwargs={'refusal': None}, response_metadata={'token_usage': {'completion_tokens': 33, 'prompt_tokens': 21, 'total_tokens': 54, 'completion_tokens_details': {'accepted_prediction_tokens': 0, 'audio_tokens': 0, 'reasoning_tokens': 0, 'rejected_prediction_tokens': 0}, 'prompt_tokens_details': {'audio_tokens': 0, 'cached_tokens': 0}}, 'model_name': 'gpt-4-0613', 'system_fingerprint': None, 'id': 'chatcmpl-C6y0GjKz7lGWGb6pd3oAjwjbtlnhS', 'service_tier': 'default', 'finish_reason': 'stop', 'logprobs': None}, id='run--4001a19c-8d69-48a2-aba2-9b9fc902b659-0', usage_metadata={'input_tokens': 21, 'output_tokens': 33, 'total_tokens': 54, 'input_token_details': {'audio': 0, 'cache_read': 0}, 'output_token_details': {'audio': 0, 'reasoning': 0}})"
      ]
     },
     "execution_count": 9,
     "metadata": {},
     "output_type": "execute_result"
    }
   ],
   "source": [
    "response"
   ]
  },
  {
   "cell_type": "code",
   "execution_count": 12,
   "id": "9548ed5d-8886-4e22-ab23-63bccbd3c3b0",
   "metadata": {},
   "outputs": [],
   "source": [
    "str_output_parser = StrOutputParser()"
   ]
  },
  {
   "cell_type": "code",
   "execution_count": 13,
   "id": "991f184b-a2f1-44d8-8e6a-9a3337e9bee1",
   "metadata": {},
   "outputs": [],
   "source": [
    "response_parsed = str_output_parser.invoke(response)"
   ]
  },
  {
   "cell_type": "code",
   "execution_count": 14,
   "id": "44583297-475a-4fb1-bdd2-f1a90bc5d529",
   "metadata": {},
   "outputs": [
    {
     "data": {
      "text/plain": [
       "'Sure, did you know that octopuses have three hearts? Two pump blood to the gills, while the third pumps it to the rest of the body.'"
      ]
     },
     "execution_count": 14,
     "metadata": {},
     "output_type": "execute_result"
    }
   ],
   "source": [
    "response_parsed"
   ]
  },
  {
   "cell_type": "code",
   "execution_count": null,
   "id": "2e7421a2-3c2e-4286-ba0a-88c7c11b8717",
   "metadata": {},
   "outputs": [],
   "source": []
  }
 ],
 "metadata": {
  "kernelspec": {
   "display_name": "langchain_env",
   "language": "python",
   "name": "langchain_env"
  },
  "language_info": {
   "codemirror_mode": {
    "name": "ipython",
    "version": 3
   },
   "file_extension": ".py",
   "mimetype": "text/x-python",
   "name": "python",
   "nbconvert_exporter": "python",
   "pygments_lexer": "ipython3",
   "version": "3.10.10"
  }
 },
 "nbformat": 4,
 "nbformat_minor": 5
}

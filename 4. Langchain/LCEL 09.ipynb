{
 "cells": [
  {
   "cell_type": "markdown",
   "id": "7ead500f-40d5-4b3f-93da-ae6b2f17541e",
   "metadata": {},
   "source": [
    "RunnableLambda"
   ]
  },
  {
   "cell_type": "code",
   "execution_count": 8,
   "id": "92dad5fc-d2a0-4653-8344-9281b5520a4c",
   "metadata": {},
   "outputs": [],
   "source": [
    "from langchain_core.runnables import RunnableLambda"
   ]
  },
  {
   "cell_type": "code",
   "execution_count": 2,
   "id": "5671e237-bc37-4146-9ba9-8db891fbad11",
   "metadata": {},
   "outputs": [],
   "source": [
    "find_sum = lambda x: sum(x)"
   ]
  },
  {
   "cell_type": "code",
   "execution_count": 4,
   "id": "445df279-6753-485a-a424-66b428b0ec12",
   "metadata": {},
   "outputs": [
    {
     "data": {
      "text/plain": [
       "6"
      ]
     },
     "execution_count": 4,
     "metadata": {},
     "output_type": "execute_result"
    }
   ],
   "source": [
    "find_sum([1,2,3])"
   ]
  },
  {
   "cell_type": "code",
   "execution_count": 5,
   "id": "3adebb93-ca0e-4c20-97b0-ac416c3f1ea6",
   "metadata": {},
   "outputs": [],
   "source": [
    "find_square = lambda x: x**2"
   ]
  },
  {
   "cell_type": "code",
   "execution_count": 15,
   "id": "0f307626-8ea2-463c-ad4f-67d0b6b1373f",
   "metadata": {},
   "outputs": [
    {
     "data": {
      "text/plain": [
       "36"
      ]
     },
     "execution_count": 15,
     "metadata": {},
     "output_type": "execute_result"
    }
   ],
   "source": [
    "find_square(6)"
   ]
  },
  {
   "cell_type": "code",
   "execution_count": 16,
   "id": "a3dbdd09-53d9-40be-81ca-2268829d080b",
   "metadata": {},
   "outputs": [],
   "source": [
    "runnable_sum = RunnableLambda(lambda x: sum(x))"
   ]
  },
  {
   "cell_type": "code",
   "execution_count": 17,
   "id": "22b67115-4264-4849-9d8c-7cde3a922a4b",
   "metadata": {},
   "outputs": [
    {
     "data": {
      "text/plain": [
       "6"
      ]
     },
     "execution_count": 17,
     "metadata": {},
     "output_type": "execute_result"
    }
   ],
   "source": [
    "runnable_sum.invoke([1,2,3])"
   ]
  },
  {
   "cell_type": "code",
   "execution_count": 18,
   "id": "d36f2d76-39fd-4f2e-b196-3b24522eb4bc",
   "metadata": {},
   "outputs": [],
   "source": [
    "runnable_square = RunnableLambda(lambda x: x**2)"
   ]
  },
  {
   "cell_type": "code",
   "execution_count": 20,
   "id": "e1e13c03-526e-43b5-8bfe-bb91a7ab3025",
   "metadata": {},
   "outputs": [
    {
     "data": {
      "text/plain": [
       "36"
      ]
     },
     "execution_count": 20,
     "metadata": {},
     "output_type": "execute_result"
    }
   ],
   "source": [
    "runnable_square.invoke(6)"
   ]
  },
  {
   "cell_type": "code",
   "execution_count": 21,
   "id": "83f80773-1e7b-4d20-a43a-6af21afef5cf",
   "metadata": {},
   "outputs": [],
   "source": [
    "chain = runnable_sum | runnable_square "
   ]
  },
  {
   "cell_type": "code",
   "execution_count": 22,
   "id": "22bac58d-1c45-47d2-a4e0-571e5273f186",
   "metadata": {},
   "outputs": [
    {
     "data": {
      "text/plain": [
       "36"
      ]
     },
     "execution_count": 22,
     "metadata": {},
     "output_type": "execute_result"
    }
   ],
   "source": [
    "chain.invoke([1,2,3])"
   ]
  },
  {
   "cell_type": "code",
   "execution_count": 23,
   "id": "08203e8a-8ea5-4f2c-88dd-831a337704a8",
   "metadata": {},
   "outputs": [
    {
     "name": "stdout",
     "output_type": "stream",
     "text": [
      "+-------------+  \n",
      "| LambdaInput |  \n",
      "+-------------+  \n",
      "        *        \n",
      "        *        \n",
      "        *        \n",
      "   +--------+    \n",
      "   | Lambda |    \n",
      "   +--------+    \n",
      "        *        \n",
      "        *        \n",
      "        *        \n",
      "   +--------+    \n",
      "   | Lambda |    \n",
      "   +--------+    \n",
      "        *        \n",
      "        *        \n",
      "        *        \n",
      "+--------------+ \n",
      "| LambdaOutput | \n",
      "+--------------+ \n"
     ]
    }
   ],
   "source": [
    "chain.get_graph().print_ascii()"
   ]
  },
  {
   "cell_type": "code",
   "execution_count": null,
   "id": "d9a2f31b-d665-4869-9a46-170b61d6293e",
   "metadata": {},
   "outputs": [],
   "source": []
  }
 ],
 "metadata": {
  "kernelspec": {
   "display_name": "langchain_env",
   "language": "python",
   "name": "langchain_env"
  },
  "language_info": {
   "codemirror_mode": {
    "name": "ipython",
    "version": 3
   },
   "file_extension": ".py",
   "mimetype": "text/x-python",
   "name": "python",
   "nbconvert_exporter": "python",
   "pygments_lexer": "ipython3",
   "version": "3.10.10"
  }
 },
 "nbformat": 4,
 "nbformat_minor": 5
}

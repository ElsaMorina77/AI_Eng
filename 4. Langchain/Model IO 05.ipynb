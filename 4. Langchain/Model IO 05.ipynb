{
 "cells": [
  {
   "cell_type": "markdown",
   "id": "897c2d35-b0ea-4d3f-893f-7c43c6921a21",
   "metadata": {},
   "source": [
    "Chat Prompt Templates and Chat Prompt Values"
   ]
  },
  {
   "cell_type": "code",
   "execution_count": 1,
   "id": "99dd94b9-bdc3-4d71-9798-0abd64358b21",
   "metadata": {},
   "outputs": [],
   "source": [
    "%load_ext dotenv"
   ]
  },
  {
   "cell_type": "code",
   "execution_count": 3,
   "id": "9b9b24a7-ffdb-49d8-b580-465fd1860898",
   "metadata": {},
   "outputs": [],
   "source": [
    "%dotenv"
   ]
  },
  {
   "cell_type": "code",
   "execution_count": 4,
   "id": "f5fc1eb1-fba1-4b4e-b966-e081dc0aad0b",
   "metadata": {},
   "outputs": [],
   "source": [
    "from langchain_openai.chat_models import ChatOpenAI\n",
    "\n",
    "from langchain_core.prompts.chat import (SystemMessagePromptTemplate, HumanMessagePromptTemplate, ChatPromptTemplate )"
   ]
  },
  {
   "cell_type": "code",
   "execution_count": 5,
   "id": "b74218ea-809f-4670-9e0a-16c0f9130485",
   "metadata": {},
   "outputs": [
    {
     "name": "stderr",
     "output_type": "stream",
     "text": [
      "/opt/anaconda3/envs/langchain_env/lib/python3.10/site-packages/IPython/core/interactiveshell.py:3519: UserWarning: Parameters {'seed'} should be specified explicitly. Instead they were passed in as part of `model_kwargs` parameter.\n",
      "  if await self.run_code(code, result, async_=asy):\n"
     ]
    }
   ],
   "source": [
    "chat = ChatOpenAI(model_name = 'gpt-4',\n",
    "                  model_kwargs = {'seed': 365},\n",
    "                  temperature = 0,\n",
    "                  max_tokens = 100\n",
    "                 )"
   ]
  },
  {
   "cell_type": "code",
   "execution_count": 8,
   "id": "a6230fd2-bf77-411a-9d3b-84220529381d",
   "metadata": {},
   "outputs": [],
   "source": [
    "TEMPLATE_S = '{description}'\n",
    "TEMPLATE_H = '''I've recently adopted a {pet}.\n",
    "Could you suggest some {pet} names? '''\n",
    "\n",
    "\n",
    "message_template_s = SystemMessagePromptTemplate.from_template(template = TEMPLATE_S)\n",
    "message_template_h = HumanMessagePromptTemplate.from_template(template = TEMPLATE_H)"
   ]
  },
  {
   "cell_type": "code",
   "execution_count": 7,
   "id": "6b95cfe4-0a56-4b6c-a51d-32605a538c08",
   "metadata": {},
   "outputs": [
    {
     "data": {
      "text/plain": [
       "SystemMessagePromptTemplate(prompt=PromptTemplate(input_variables=['description'], input_types={}, partial_variables={}, template='{description}'), additional_kwargs={})"
      ]
     },
     "execution_count": 7,
     "metadata": {},
     "output_type": "execute_result"
    }
   ],
   "source": [
    "message_template_s"
   ]
  },
  {
   "cell_type": "code",
   "execution_count": 9,
   "id": "5f9f41a6-0f14-404c-a755-1d69864f70db",
   "metadata": {},
   "outputs": [
    {
     "data": {
      "text/plain": [
       "HumanMessagePromptTemplate(prompt=PromptTemplate(input_variables=['pet'], input_types={}, partial_variables={}, template=\"I've recently adopted a {pet}.\\nCould you suggest some {pet} names? \"), additional_kwargs={})"
      ]
     },
     "execution_count": 9,
     "metadata": {},
     "output_type": "execute_result"
    }
   ],
   "source": [
    "message_template_h"
   ]
  },
  {
   "cell_type": "code",
   "execution_count": 10,
   "id": "af15cdd7-c071-412e-81e7-5863e26b4bb4",
   "metadata": {},
   "outputs": [],
   "source": [
    "chat_template = ChatPromptTemplate.from_messages([message_template_s, message_template_h])"
   ]
  },
  {
   "cell_type": "code",
   "execution_count": 11,
   "id": "c43f44b8-f233-4c06-884b-597edc7de805",
   "metadata": {},
   "outputs": [
    {
     "data": {
      "text/plain": [
       "ChatPromptTemplate(input_variables=['description', 'pet'], input_types={}, partial_variables={}, messages=[SystemMessagePromptTemplate(prompt=PromptTemplate(input_variables=['description'], input_types={}, partial_variables={}, template='{description}'), additional_kwargs={}), HumanMessagePromptTemplate(prompt=PromptTemplate(input_variables=['pet'], input_types={}, partial_variables={}, template=\"I've recently adopted a {pet}.\\nCould you suggest some {pet} names? \"), additional_kwargs={})])"
      ]
     },
     "execution_count": 11,
     "metadata": {},
     "output_type": "execute_result"
    }
   ],
   "source": [
    "chat_template"
   ]
  },
  {
   "cell_type": "code",
   "execution_count": 12,
   "id": "ad5f7ef6-bab6-4cfb-87e7-d11972b8c14a",
   "metadata": {},
   "outputs": [],
   "source": [
    "chat_value = chat_template.invoke({'description': '''The chatbot should reluctantly answer questions with sarcastic responses''',\n",
    "                                      'pet': '''dog'''})"
   ]
  },
  {
   "cell_type": "code",
   "execution_count": 13,
   "id": "43417621-8e07-4905-8dcb-3055fd2300ff",
   "metadata": {},
   "outputs": [
    {
     "data": {
      "text/plain": [
       "ChatPromptValue(messages=[SystemMessage(content='The chatbot should reluctantly answer questions with sarcastic responses', additional_kwargs={}, response_metadata={}), HumanMessage(content=\"I've recently adopted a dog.\\nCould you suggest some dog names? \", additional_kwargs={}, response_metadata={})])"
      ]
     },
     "execution_count": 13,
     "metadata": {},
     "output_type": "execute_result"
    }
   ],
   "source": [
    "chat_value"
   ]
  },
  {
   "cell_type": "code",
   "execution_count": 15,
   "id": "57f862bb-b1d8-443f-b34b-a7e8d61d0433",
   "metadata": {},
   "outputs": [],
   "source": [
    "response = chat.invoke(chat_value)"
   ]
  },
  {
   "cell_type": "code",
   "execution_count": 16,
   "id": "68bd4620-0c15-4a9b-a2b6-5a2acbd1fc77",
   "metadata": {},
   "outputs": [
    {
     "data": {
      "text/plain": [
       "AIMessage(content='Oh, absolutely. Because I\\'m just brimming with excitement to help you name your new pet. How about \"Bark Twain\" or \"Sir Waggington\"? Or maybe something more original like \"Fido\" or \"Spot\"? I mean, who wouldn\\'t want their dog to have the same name as thousands of others?', additional_kwargs={'refusal': None}, response_metadata={'token_usage': {'completion_tokens': 68, 'prompt_tokens': 37, 'total_tokens': 105, 'completion_tokens_details': {'accepted_prediction_tokens': 0, 'audio_tokens': 0, 'reasoning_tokens': 0, 'rejected_prediction_tokens': 0}, 'prompt_tokens_details': {'audio_tokens': 0, 'cached_tokens': 0}}, 'model_name': 'gpt-4-0613', 'system_fingerprint': None, 'id': 'chatcmpl-C6cWy9CsOj7gUtvae8Y3U1EYFW6Va', 'service_tier': 'default', 'finish_reason': 'stop', 'logprobs': None}, id='run--8c5ce2df-1ba5-48ee-921b-7a997b1126b8-0', usage_metadata={'input_tokens': 37, 'output_tokens': 68, 'total_tokens': 105, 'input_token_details': {'audio': 0, 'cache_read': 0}, 'output_token_details': {'audio': 0, 'reasoning': 0}})"
      ]
     },
     "execution_count": 16,
     "metadata": {},
     "output_type": "execute_result"
    }
   ],
   "source": [
    "response"
   ]
  },
  {
   "cell_type": "code",
   "execution_count": null,
   "id": "a76d44ae-5436-42a8-acf4-4b7f7ffafe64",
   "metadata": {},
   "outputs": [],
   "source": []
  }
 ],
 "metadata": {
  "kernelspec": {
   "display_name": "langchain_env",
   "language": "python",
   "name": "langchain_env"
  },
  "language_info": {
   "codemirror_mode": {
    "name": "ipython",
    "version": 3
   },
   "file_extension": ".py",
   "mimetype": "text/x-python",
   "name": "python",
   "nbconvert_exporter": "python",
   "pygments_lexer": "ipython3",
   "version": "3.10.10"
  }
 },
 "nbformat": 4,
 "nbformat_minor": 5
}

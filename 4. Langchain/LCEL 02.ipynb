{
 "cells": [
  {
   "cell_type": "markdown",
   "id": "e2501bfb-24b2-4cb3-8924-8bf1d597c796",
   "metadata": {},
   "source": [
    "Batching\n"
   ]
  },
  {
   "cell_type": "code",
   "execution_count": 1,
   "id": "9609b6e4-08f7-42e0-8df7-390d12c4576d",
   "metadata": {},
   "outputs": [],
   "source": [
    "%load_ext dotenv"
   ]
  },
  {
   "cell_type": "code",
   "execution_count": 2,
   "id": "803e3608-5315-4040-9ed7-5717906d2676",
   "metadata": {},
   "outputs": [],
   "source": [
    "%dotenv"
   ]
  },
  {
   "cell_type": "code",
   "execution_count": 3,
   "id": "c2af25ec-f212-4162-8033-6b5810ce6ddf",
   "metadata": {},
   "outputs": [],
   "source": [
    "from langchain_core.prompts import ChatPromptTemplate\n",
    "from langchain_openai import ChatOpenAI"
   ]
  },
  {
   "cell_type": "code",
   "execution_count": 4,
   "id": "79f528bb-4edf-4943-9079-f38ff24f4298",
   "metadata": {},
   "outputs": [],
   "source": [
    "chat_template = ChatPromptTemplate.from_messages([\n",
    "    ('human', \"I've recently adopted a {pet} which is {breed}. Could you suggest several training tips?\")])"
   ]
  },
  {
   "cell_type": "code",
   "execution_count": 5,
   "id": "9108049a-04d1-493e-901e-3250cee38e30",
   "metadata": {},
   "outputs": [
    {
     "name": "stderr",
     "output_type": "stream",
     "text": [
      "/opt/anaconda3/envs/langchain_env/lib/python3.10/site-packages/IPython/core/interactiveshell.py:3519: UserWarning: Parameters {'seed'} should be specified explicitly. Instead they were passed in as part of `model_kwargs` parameter.\n",
      "  if await self.run_code(code, result, async_=asy):\n"
     ]
    }
   ],
   "source": [
    "chat = ChatOpenAI(model_name = 'gpt-4',\n",
    "                 model_kwargs = {'seed': 365},\n",
    "                 temperature = 0,\n",
    "                 max_tokens = 100)"
   ]
  },
  {
   "cell_type": "code",
   "execution_count": 6,
   "id": "508f55e4-6128-40a1-a350-9ca5dbe86786",
   "metadata": {},
   "outputs": [],
   "source": [
    "chain = chat_template | chat"
   ]
  },
  {
   "cell_type": "code",
   "execution_count": 7,
   "id": "a99e1d63-2dd5-4bd0-8a39-aeaebe36d3e4",
   "metadata": {},
   "outputs": [
    {
     "data": {
      "text/plain": [
       "AIMessage(content='1. Start Training Early: Begin training your shepherd dog as soon as you bring them home. This will help them understand their boundaries and what is expected of them.\\n\\n2. Consistency is Key: Be consistent with your commands and the way you train your dog. This will help them understand what you want from them and will make the training process easier.\\n\\n3. Use Positive Reinforcement: Always reward your dog for good behavior. This could be in the form of treats, praise, or extra play', additional_kwargs={'refusal': None}, response_metadata={'token_usage': {'completion_tokens': 100, 'prompt_tokens': 24, 'total_tokens': 124, 'completion_tokens_details': {'accepted_prediction_tokens': 0, 'audio_tokens': 0, 'reasoning_tokens': 0, 'rejected_prediction_tokens': 0}, 'prompt_tokens_details': {'audio_tokens': 0, 'cached_tokens': 0}}, 'model_name': 'gpt-4-0613', 'system_fingerprint': None, 'id': 'chatcmpl-C8j6hEnMgYmYTltW7F1JwmULIhtUZ', 'service_tier': 'default', 'finish_reason': 'length', 'logprobs': None}, id='run--07657c9c-ffa3-4da4-9626-32c57ac2d3f3-0', usage_metadata={'input_tokens': 24, 'output_tokens': 100, 'total_tokens': 124, 'input_token_details': {'audio': 0, 'cache_read': 0}, 'output_token_details': {'audio': 0, 'reasoning': 0}})"
      ]
     },
     "execution_count": 7,
     "metadata": {},
     "output_type": "execute_result"
    }
   ],
   "source": [
    "chain.invoke({'pet': 'dog', 'breed': 'shepherd'})"
   ]
  },
  {
   "cell_type": "code",
   "execution_count": 11,
   "id": "b1b26532-813a-41c1-8573-52230fdab40b",
   "metadata": {},
   "outputs": [
    {
     "name": "stdout",
     "output_type": "stream",
     "text": [
      "CPU times: user 22.7 ms, sys: 4.86 ms, total: 27.5 ms\n",
      "Wall time: 4.09 s\n"
     ]
    },
    {
     "data": {
      "text/plain": [
       "[AIMessage(content=\"1. Start Training Early: Begin training your shepherd dog as soon as you bring them home. This will help them understand their boundaries and what is expected of them.\\n\\n2. Consistency is Key: Be consistent with your commands and training. If you allow your dog to do something once, they will think it's always acceptable. \\n\\n3. Use Positive Reinforcement: Always reward good behavior. This can be through treats, praise, or extra playtime. This will encourage your dog to repeat the\", additional_kwargs={'refusal': None}, response_metadata={'token_usage': {'completion_tokens': 100, 'prompt_tokens': 24, 'total_tokens': 124, 'completion_tokens_details': {'accepted_prediction_tokens': 0, 'audio_tokens': 0, 'reasoning_tokens': 0, 'rejected_prediction_tokens': 0}, 'prompt_tokens_details': {'audio_tokens': 0, 'cached_tokens': 0}}, 'model_name': 'gpt-4-0613', 'system_fingerprint': None, 'id': 'chatcmpl-C8jAD35hMUAC4w72TLz2eqJN8Ip4K', 'service_tier': 'default', 'finish_reason': 'length', 'logprobs': None}, id='run--0b8f3e2e-96b3-473b-a5ae-d24e14a79983-0', usage_metadata={'input_tokens': 24, 'output_tokens': 100, 'total_tokens': 124, 'input_token_details': {'audio': 0, 'cache_read': 0}, 'output_token_details': {'audio': 0, 'reasoning': 0}}),\n",
       " AIMessage(content='Training a dragon, especially a Night Fury, is no small task. Here are some tips to help you:\\n\\n1. Establish Trust: Night Furies are intelligent and sensitive creatures. They need to trust you before they can be trained. Spend time with your dragon, talk to it, and show it that you mean no harm.\\n\\n2. Positive Reinforcement: Like any other pet, dragons respond well to positive reinforcement. Reward your dragon with treats or affection when it behaves well. This will encourage it', additional_kwargs={'refusal': None}, response_metadata={'token_usage': {'completion_tokens': 100, 'prompt_tokens': 25, 'total_tokens': 125, 'completion_tokens_details': {'accepted_prediction_tokens': 0, 'audio_tokens': 0, 'reasoning_tokens': 0, 'rejected_prediction_tokens': 0}, 'prompt_tokens_details': {'audio_tokens': 0, 'cached_tokens': 0}}, 'model_name': 'gpt-4-0613', 'system_fingerprint': None, 'id': 'chatcmpl-C8jADWWcKSpE3u90ahyy6A7WWJQRY', 'service_tier': 'default', 'finish_reason': 'length', 'logprobs': None}, id='run--1fcd96a5-a6c6-480a-bf43-2901abc3e46e-0', usage_metadata={'input_tokens': 25, 'output_tokens': 100, 'total_tokens': 125, 'input_token_details': {'audio': 0, 'cache_read': 0}, 'output_token_details': {'audio': 0, 'reasoning': 0}})]"
      ]
     },
     "execution_count": 11,
     "metadata": {},
     "output_type": "execute_result"
    }
   ],
   "source": [
    "%%time\n",
    "chain.batch([{'pet': 'dog', 'breed': 'shepherd'},\n",
    "             {'pet': 'dragon', 'breed': 'night fury'}])"
   ]
  },
  {
   "cell_type": "code",
   "execution_count": 12,
   "id": "75ed9e6a-8bfa-497b-8345-60ace61bf4c4",
   "metadata": {},
   "outputs": [
    {
     "name": "stdout",
     "output_type": "stream",
     "text": [
      "CPU times: user 5.98 ms, sys: 2.24 ms, total: 8.22 ms\n",
      "Wall time: 3.88 s\n"
     ]
    },
    {
     "data": {
      "text/plain": [
       "AIMessage(content=\"1. Start Training Early: Begin training your shepherd dog as soon as you bring them home. This will help them understand their boundaries and what is expected of them.\\n\\n2. Consistency is Key: Be consistent with your commands and expectations. If you allow your dog to do something once, they will think it's always acceptable. \\n\\n3. Use Positive Reinforcement: Always reward good behavior with treats, praise, or playtime. This will encourage your dog to repeat the behavior.\\n\\n4. Social\", additional_kwargs={'refusal': None}, response_metadata={'token_usage': {'completion_tokens': 100, 'prompt_tokens': 24, 'total_tokens': 124, 'completion_tokens_details': {'accepted_prediction_tokens': 0, 'audio_tokens': 0, 'reasoning_tokens': 0, 'rejected_prediction_tokens': 0}, 'prompt_tokens_details': {'audio_tokens': 0, 'cached_tokens': 0}}, 'model_name': 'gpt-4-0613', 'system_fingerprint': None, 'id': 'chatcmpl-C8jAHo9Hztyb7EXCDdFqQcGDCSjDo', 'service_tier': 'default', 'finish_reason': 'length', 'logprobs': None}, id='run--7252d308-4963-422c-abba-33ec968a6c5f-0', usage_metadata={'input_tokens': 24, 'output_tokens': 100, 'total_tokens': 124, 'input_token_details': {'audio': 0, 'cache_read': 0}, 'output_token_details': {'audio': 0, 'reasoning': 0}})"
      ]
     },
     "execution_count": 12,
     "metadata": {},
     "output_type": "execute_result"
    }
   ],
   "source": [
    "%%time\n",
    "chain.invoke({'pet': 'dog', 'breed': 'shepherd'})"
   ]
  },
  {
   "cell_type": "code",
   "execution_count": 13,
   "id": "615f8ac1-3fc6-4f9e-8f29-d511b64dc368",
   "metadata": {},
   "outputs": [
    {
     "name": "stdout",
     "output_type": "stream",
     "text": [
      "CPU times: user 10.9 ms, sys: 3.51 ms, total: 14.4 ms\n",
      "Wall time: 4.9 s\n"
     ]
    },
    {
     "data": {
      "text/plain": [
       "AIMessage(content='Training a dragon, especially a Night Fury, is no small task. Here are some tips to help you:\\n\\n1. Establish Trust: Night Furies are intelligent and sensitive creatures. They need to trust you before they can be trained. Spend time with your dragon, talk to it, and show it that you mean no harm.\\n\\n2. Positive Reinforcement: Like any other pet, dragons respond well to positive reinforcement. Reward your dragon with treats or praise when it does something right. This will encourage', additional_kwargs={'refusal': None}, response_metadata={'token_usage': {'completion_tokens': 100, 'prompt_tokens': 25, 'total_tokens': 125, 'completion_tokens_details': {'accepted_prediction_tokens': 0, 'audio_tokens': 0, 'reasoning_tokens': 0, 'rejected_prediction_tokens': 0}, 'prompt_tokens_details': {'audio_tokens': 0, 'cached_tokens': 0}}, 'model_name': 'gpt-4-0613', 'system_fingerprint': None, 'id': 'chatcmpl-C8jAM2D6ywt8COLUOhqfLKAqgTqKn', 'service_tier': 'default', 'finish_reason': 'length', 'logprobs': None}, id='run--2e49fd1d-7ff7-4d5f-8aae-f167d2f45ab6-0', usage_metadata={'input_tokens': 25, 'output_tokens': 100, 'total_tokens': 125, 'input_token_details': {'audio': 0, 'cache_read': 0}, 'output_token_details': {'audio': 0, 'reasoning': 0}})"
      ]
     },
     "execution_count": 13,
     "metadata": {},
     "output_type": "execute_result"
    }
   ],
   "source": [
    "%%time\n",
    "chain.invoke({'pet': 'dragon', 'breed': 'night fury'})"
   ]
  },
  {
   "cell_type": "code",
   "execution_count": null,
   "id": "84a9fac2-e799-475c-9aac-e6d4de261fa6",
   "metadata": {},
   "outputs": [],
   "source": []
  }
 ],
 "metadata": {
  "kernelspec": {
   "display_name": "langchain_env",
   "language": "python",
   "name": "langchain_env"
  },
  "language_info": {
   "codemirror_mode": {
    "name": "ipython",
    "version": 3
   },
   "file_extension": ".py",
   "mimetype": "text/x-python",
   "name": "python",
   "nbconvert_exporter": "python",
   "pygments_lexer": "ipython3",
   "version": "3.10.10"
  }
 },
 "nbformat": 4,
 "nbformat_minor": 5
}

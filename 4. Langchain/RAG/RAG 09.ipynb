{
 "cells": [
  {
   "cell_type": "markdown",
   "id": "845dc26a-9412-4a4a-8834-8f92e11a4b43",
   "metadata": {},
   "source": [
    "# **Indexing: Document Splitting with Character Text Splitter (Code Along)**"
   ]
  },
  {
   "cell_type": "code",
   "execution_count": 1,
   "id": "b02735f7-fa0d-4b38-b1c6-97423b2f0f4e",
   "metadata": {},
   "outputs": [],
   "source": [
    "from langchain_community.document_loaders import Docx2txtLoader\n",
    "from langchain_text_splitters.character import CharacterTextSplitter"
   ]
  },
  {
   "cell_type": "code",
   "execution_count": 2,
   "id": "e3bf0799-03e2-4754-8b3e-33247d6ac705",
   "metadata": {},
   "outputs": [],
   "source": [
    "loader = Docx2txtLoader(\"Introduction_to_Data_and_Data_Science.docx\")"
   ]
  },
  {
   "cell_type": "code",
   "execution_count": 3,
   "id": "9adff538-ba54-4d33-8139-a4ee2e0689f1",
   "metadata": {},
   "outputs": [],
   "source": [
    "pages = loader.load()"
   ]
  },
  {
   "cell_type": "code",
   "execution_count": 4,
   "id": "04ca2754-d4f7-46a3-8c2a-806d0b6606eb",
   "metadata": {},
   "outputs": [],
   "source": [
    "for i in range(len(pages)):\n",
    "    pages[i].page_content = ' '.join(pages[i].page_content.split())"
   ]
  },
  {
   "cell_type": "code",
   "execution_count": 5,
   "id": "99eca43c-9730-413e-87b5-a760c564c18a",
   "metadata": {},
   "outputs": [
    {
     "data": {
      "text/plain": [
       "8259"
      ]
     },
     "execution_count": 5,
     "metadata": {},
     "output_type": "execute_result"
    }
   ],
   "source": [
    "len(pages[0].page_content)"
   ]
  },
  {
   "cell_type": "code",
   "execution_count": 6,
   "id": "bb711ece-a259-4fe0-a1c8-fdd7cb9696d7",
   "metadata": {},
   "outputs": [],
   "source": [
    "character_splitter = CharacterTextSplitter(separator=\".\", \n",
    "                                           chunk_size = 500,\n",
    "                                           chunk_overlap = 50)"
   ]
  },
  {
   "cell_type": "code",
   "execution_count": 7,
   "id": "fd7953f2-dcb0-40fb-b328-f31dbd023610",
   "metadata": {},
   "outputs": [],
   "source": [
    "pages_char_split = character_splitter.split_documents(pages)"
   ]
  },
  {
   "cell_type": "code",
   "execution_count": 8,
   "id": "44805c21-e436-4da9-971f-13ddc0976791",
   "metadata": {},
   "outputs": [
    {
     "data": {
      "text/plain": [
       "21"
      ]
     },
     "execution_count": 8,
     "metadata": {},
     "output_type": "execute_result"
    }
   ],
   "source": [
    "len(pages_char_split)"
   ]
  },
  {
   "cell_type": "code",
   "execution_count": 9,
   "id": "7e848a7b-638d-4490-a126-403c3089879d",
   "metadata": {},
   "outputs": [
    {
     "data": {
      "text/plain": [
       "'So, let’s clear this up, shall we? First, we will start with analysis. Consider the following… You have a huge dataset containing data of various types. Instead of tackling the entire dataset and running the risk of becoming overwhelmed, you separate it into easier to digest chunks and study them individually and examine how they relate to other parts. And that’s analysis in a nutshell'"
      ]
     },
     "execution_count": 9,
     "metadata": {},
     "output_type": "execute_result"
    }
   ],
   "source": [
    "pages_char_split[1].page_content"
   ]
  },
  {
   "cell_type": "code",
   "execution_count": 10,
   "id": "ee3b84f8-6362-4920-9c0a-8e453d32a502",
   "metadata": {},
   "outputs": [
    {
     "data": {
      "text/plain": [
       "16.518"
      ]
     },
     "execution_count": 10,
     "metadata": {},
     "output_type": "execute_result"
    }
   ],
   "source": [
    "8259 / 500"
   ]
  },
  {
   "cell_type": "code",
   "execution_count": 11,
   "id": "21b946e7-5be3-458b-9a3c-76732651bd14",
   "metadata": {},
   "outputs": [
    {
     "data": {
      "text/plain": [
       "259.0"
      ]
     },
     "execution_count": 11,
     "metadata": {},
     "output_type": "execute_result"
    }
   ],
   "source": [
    "0.518 * 500"
   ]
  },
  {
   "cell_type": "code",
   "execution_count": 12,
   "id": "dd0ba3f8-4c00-41bb-be47-8e5205d1209a",
   "metadata": {},
   "outputs": [
    {
     "data": {
      "text/plain": [
       "382"
      ]
     },
     "execution_count": 12,
     "metadata": {},
     "output_type": "execute_result"
    }
   ],
   "source": [
    "len(pages_char_split[16].page_content)"
   ]
  },
  {
   "cell_type": "code",
   "execution_count": null,
   "id": "1b1ca1df-2e2f-4482-a878-3735ce957e07",
   "metadata": {},
   "outputs": [],
   "source": []
  }
 ],
 "metadata": {
  "kernelspec": {
   "display_name": "langchain_env",
   "language": "python",
   "name": "langchain_env"
  },
  "language_info": {
   "codemirror_mode": {
    "name": "ipython",
    "version": 3
   },
   "file_extension": ".py",
   "mimetype": "text/x-python",
   "name": "python",
   "nbconvert_exporter": "python",
   "pygments_lexer": "ipython3",
   "version": "3.10.10"
  }
 },
 "nbformat": 4,
 "nbformat_minor": 5
}

{
 "cells": [
  {
   "cell_type": "code",
   "execution_count": 1,
   "id": "c503f0bf-40e4-4e92-923e-cda95c34c815",
   "metadata": {},
   "outputs": [],
   "source": [
    "%load_ext dotenv\n",
    "%dotenv"
   ]
  },
  {
   "cell_type": "code",
   "execution_count": 2,
   "id": "32c6efff-dc7a-4d99-9c84-bf3bb24ead57",
   "metadata": {},
   "outputs": [],
   "source": [
    "from langchain_community.document_loaders import Docx2txtLoader\n",
    "from langchain_text_splitters.markdown import MarkdownHeaderTextSplitter\n",
    "from langchain_text_splitters.character import CharacterTextSplitter\n",
    "from langchain_openai.embeddings import OpenAIEmbeddings\n",
    "from langchain_community.vectorstores import Chroma"
   ]
  },
  {
   "cell_type": "code",
   "execution_count": 3,
   "id": "6e2729ee-9936-4a80-b5cd-854908c67180",
   "metadata": {},
   "outputs": [],
   "source": [
    "#load pages of the docx file\n",
    "loader_docx = Docx2txtLoader(\"Introduction_to_Data_and_Data_Science_2.docx\")\n",
    "pages = loader_docx.load()\n",
    "\n",
    "\n",
    "#splitted based on the course and lecture titles\n",
    "md_splitter = MarkdownHeaderTextSplitter(headers_to_split_on = [('#', 'Course Title'),\n",
    "                                                                ('##', 'Lecture Title')] )\n",
    "\n",
    "\n",
    "#removed the new line characters from all the text \n",
    "pages_md_split = md_splitter.split_text(pages[0].page_content)\n",
    "\n",
    "for i in range(len(pages_md_split)):\n",
    "    pages_md_split[i].page_content = ' '.join(pages_md_split[i].page_content.split())\n",
    "\n",
    "\n",
    "#splitted based on the number of characters using the chunk, overlap and a period as a separator\n",
    "char_splitter = CharacterTextSplitter(\n",
    "    separator = '.',\n",
    "    chunk_size = 500,\n",
    "    chunk_overlap = 50\n",
    ")\n",
    "\n",
    "pages_char_split = char_splitter.split_documents(pages_md_split)\n",
    "\n",
    "\n",
    "#created an instance of the openais embbedding class with the desired embedding model\n",
    "embedding = OpenAIEmbeddings(model = 'text-embedding-ada-002')"
   ]
  },
  {
   "cell_type": "code",
   "execution_count": 4,
   "id": "5c49fbf4-9819-41a7-af89-3ef706c844dc",
   "metadata": {},
   "outputs": [
    {
     "data": {
      "text/plain": [
       "20"
      ]
     },
     "execution_count": 4,
     "metadata": {},
     "output_type": "execute_result"
    }
   ],
   "source": [
    "len(pages_char_split) # nr of docs sorted in pages  "
   ]
  },
  {
   "cell_type": "code",
   "execution_count": 5,
   "id": "5629758d-e2b0-4b6b-b1de-366693705d2b",
   "metadata": {},
   "outputs": [],
   "source": [
    "vectorstore = Chroma.from_documents(\n",
    "    documents=pages_char_split, \n",
    "    embedding=embedding, \n",
    "    persist_directory=\"./intro-to-ds-lectures\")\n"
   ]
  },
  {
   "cell_type": "code",
   "execution_count": 6,
   "id": "ab54adf5-056c-43d1-bb68-3341c62c467d",
   "metadata": {},
   "outputs": [
    {
     "name": "stderr",
     "output_type": "stream",
     "text": [
      "/var/folders/jw/c29_qvvs3yb90jqlkdbpt4_m0000gn/T/ipykernel_5950/3089742234.py:1: LangChainDeprecationWarning: The class `Chroma` was deprecated in LangChain 0.2.9 and will be removed in 1.0. An updated version of the class exists in the :class:`~langchain-chroma package and should be used instead. To use it run `pip install -U :class:`~langchain-chroma` and import as `from :class:`~langchain_chroma import Chroma``.\n",
      "  vectorstore_from_directory = Chroma(persist_directory = \"./intro-to-ds-lectures\", embedding_function = embedding)\n"
     ]
    }
   ],
   "source": [
    "vectorstore_from_directory = Chroma(persist_directory = \"./intro-to-ds-lectures\", embedding_function = embedding)"
   ]
  },
  {
   "cell_type": "code",
   "execution_count": 7,
   "id": "ff3044b8-4733-4cd1-97d0-64410b7f5dd9",
   "metadata": {},
   "outputs": [
    {
     "data": {
      "text/plain": [
       "Document(metadata={'Course Title': 'Introduction to Data and Data Science', 'Lecture Title': 'Programming Languages & Software Employed in Data Science - All the Tools You Need'}, page_content='Great! We hope we gave you a good idea about the level of applicability of the most frequently used programming and software tools in the field of data science. Thank you for watching!')"
      ]
     },
     "execution_count": 7,
     "metadata": {},
     "output_type": "execute_result"
    }
   ],
   "source": [
    "pages_char_split[19]"
   ]
  },
  {
   "cell_type": "code",
   "execution_count": null,
   "id": "5510e03f-24c2-44b1-b9d6-9e367673fde5",
   "metadata": {},
   "outputs": [],
   "source": []
  },
  {
   "cell_type": "code",
   "execution_count": null,
   "id": "267a3728-6385-4638-85a6-2b33a37f661c",
   "metadata": {},
   "outputs": [],
   "source": []
  }
 ],
 "metadata": {
  "kernelspec": {
   "display_name": "langchain_env",
   "language": "python",
   "name": "langchain_env"
  },
  "language_info": {
   "codemirror_mode": {
    "name": "ipython",
    "version": 3
   },
   "file_extension": ".py",
   "mimetype": "text/x-python",
   "name": "python",
   "nbconvert_exporter": "python",
   "pygments_lexer": "ipython3",
   "version": "3.10.10"
  }
 },
 "nbformat": 4,
 "nbformat_minor": 5
}

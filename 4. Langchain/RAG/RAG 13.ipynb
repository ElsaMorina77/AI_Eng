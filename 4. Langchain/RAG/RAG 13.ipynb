{
 "cells": [
  {
   "cell_type": "code",
   "execution_count": 1,
   "id": "add2282a-7d3f-476a-9193-7608fc4cf952",
   "metadata": {},
   "outputs": [],
   "source": [
    "%load_ext dotenv"
   ]
  },
  {
   "cell_type": "code",
   "execution_count": 2,
   "id": "25ecfed4-0850-49ea-bd98-99864314595c",
   "metadata": {},
   "outputs": [],
   "source": [
    "%dotenv"
   ]
  },
  {
   "cell_type": "code",
   "execution_count": 3,
   "id": "7d929203-6eed-427b-8503-5caf8035cbfc",
   "metadata": {},
   "outputs": [],
   "source": [
    "from langchain_openai.embeddings import OpenAIEmbeddings \n",
    "from langchain_community.vectorstores import Chroma \n",
    "from langchain_core.documents import Document"
   ]
  },
  {
   "cell_type": "code",
   "execution_count": 4,
   "id": "80df40b2-99cc-4814-809d-cdf39b8b9c9d",
   "metadata": {},
   "outputs": [],
   "source": [
    "embedding = OpenAIEmbeddings(model = 'text-embedding-ada-002')"
   ]
  },
  {
   "cell_type": "code",
   "execution_count": 5,
   "id": "248c0285-15d8-4dab-945a-8571a27d7baf",
   "metadata": {},
   "outputs": [
    {
     "name": "stderr",
     "output_type": "stream",
     "text": [
      "/var/folders/jw/c29_qvvs3yb90jqlkdbpt4_m0000gn/T/ipykernel_5955/1754825607.py:1: LangChainDeprecationWarning: The class `Chroma` was deprecated in LangChain 0.2.9 and will be removed in 1.0. An updated version of the class exists in the :class:`~langchain-chroma package and should be used instead. To use it run `pip install -U :class:`~langchain-chroma` and import as `from :class:`~langchain_chroma import Chroma``.\n",
      "  vectorstore_from_directory = Chroma(persist_directory = \"./intro-to-ds-lectures\",\n"
     ]
    }
   ],
   "source": [
    "vectorstore_from_directory = Chroma(persist_directory = \"./intro-to-ds-lectures\",\n",
    "                                   embedding_function = embedding)"
   ]
  },
  {
   "cell_type": "code",
   "execution_count": 6,
   "id": "aea1b211-2373-44d8-9dd3-34697a99005a",
   "metadata": {},
   "outputs": [
    {
     "data": {
      "text/plain": [
       "{'ids': [],\n",
       " 'embeddings': array([], dtype=float64),\n",
       " 'documents': None,\n",
       " 'uris': None,\n",
       " 'included': ['embeddings'],\n",
       " 'data': None,\n",
       " 'metadatas': None}"
      ]
     },
     "execution_count": 6,
     "metadata": {},
     "output_type": "execute_result"
    }
   ],
   "source": [
    "vectorstore_from_directory.get(ids = \" add0a72e-2755-488b-b03b-ac5b98847ddf\", include = [\"embeddings\"])"
   ]
  },
  {
   "cell_type": "code",
   "execution_count": 7,
   "id": "18f77044-79e1-41ae-b3ee-94cab8c3080f",
   "metadata": {},
   "outputs": [],
   "source": [
    "added_document = Document(metadata={'Course Title': 'Introduction to Data and Data Science', 'Lecture Title': 'Analysis vs Analytics'}, \n",
    "                          page_content='Alright! So… Let’s discuss the not-so-obvious differences between the terms analysis and analytics. Due to the similarity of the words, some people believe they share the same meaning, and thus use them interchangeably. Technically, this isn’t correct. There is, in fact, a distinct difference between the two. And the reason for one often being used instead of the other is the lack of a transparent understanding of both. So, let’s clear this up, shall we? First, we will start with analysis')\n",
    "\n",
    "\n"
   ]
  },
  {
   "cell_type": "code",
   "execution_count": 8,
   "id": "8b415e71-846b-47e4-8646-b6159a35a825",
   "metadata": {},
   "outputs": [
    {
     "data": {
      "text/plain": [
       "['d3471cfb-fd42-4761-b1fa-00965fc56adc']"
      ]
     },
     "execution_count": 8,
     "metadata": {},
     "output_type": "execute_result"
    }
   ],
   "source": [
    "vectorstore_from_directory.add_documents([added_document])"
   ]
  },
  {
   "cell_type": "code",
   "execution_count": 15,
   "id": "a1e0caca-64f9-44a0-bba3-7ea77b0c4127",
   "metadata": {},
   "outputs": [
    {
     "data": {
      "text/plain": [
       "{'ids': ['d3471cfb-fd42-4761-b1fa-00965fc56adc'],\n",
       " 'embeddings': None,\n",
       " 'documents': ['Alright! So… Let’s discuss the not-so-obvious differences between the terms analysis and analytics. Due to the similarity of the words, some people believe they share the same meaning, and thus use them interchangeably. Technically, this isn’t correct. There is, in fact, a distinct difference between the two. And the reason for one often being used instead of the other is the lack of a transparent understanding of both. So, let’s clear this up, shall we? First, we will start with analysis'],\n",
       " 'uris': None,\n",
       " 'included': ['metadatas', 'documents'],\n",
       " 'data': None,\n",
       " 'metadatas': [{'Course Title': 'Introduction to Data and Data Science',\n",
       "   'Lecture Title': 'Analysis vs Analytics'}]}"
      ]
     },
     "execution_count": 15,
     "metadata": {},
     "output_type": "execute_result"
    }
   ],
   "source": [
    "vectorstore_from_directory.get(\"d3471cfb-fd42-4761-b1fa-00965fc56adc\")"
   ]
  },
  {
   "cell_type": "code",
   "execution_count": 16,
   "id": "cff154bf-d427-4e00-a38b-8119d3b4b142",
   "metadata": {},
   "outputs": [],
   "source": [
    "updates_document = Document(metadata={'Course Title': 'Introduction to Data and Data Science', 'Lecture Title': 'Programming Languages & Software Employed in Data Science - All the Tools You Need'}, \n",
    "                            page_content='Great! We hope we gave you a good idea about the level of applicability of the most frequently used programming and software tools in the field of data science. Thank you for watching!')\n",
    "\n",
    "\n"
   ]
  },
  {
   "cell_type": "code",
   "execution_count": 17,
   "id": "1c54ef65-ef64-41e8-bc7a-467f20a27ec3",
   "metadata": {},
   "outputs": [],
   "source": [
    "vectorstore_from_directory.update_document(document_id=\"d3471cfb-fd42-4761-b1fa-00965fc56adc\", \n",
    "                                           document=updates_document )"
   ]
  },
  {
   "cell_type": "code",
   "execution_count": 20,
   "id": "2ce513fa-8f0c-475d-b6c9-d278fecb2449",
   "metadata": {},
   "outputs": [
    {
     "data": {
      "text/plain": [
       "{'ids': ['d3471cfb-fd42-4761-b1fa-00965fc56adc'],\n",
       " 'embeddings': None,\n",
       " 'documents': ['Great! We hope we gave you a good idea about the level of applicability of the most frequently used programming and software tools in the field of data science. Thank you for watching!'],\n",
       " 'uris': None,\n",
       " 'included': ['metadatas', 'documents'],\n",
       " 'data': None,\n",
       " 'metadatas': [{'Course Title': 'Introduction to Data and Data Science',\n",
       "   'Lecture Title': 'Programming Languages & Software Employed in Data Science - All the Tools You Need'}]}"
      ]
     },
     "execution_count": 20,
     "metadata": {},
     "output_type": "execute_result"
    }
   ],
   "source": [
    "vectorstore_from_directory.get(\"d3471cfb-fd42-4761-b1fa-00965fc56adc\")"
   ]
  },
  {
   "cell_type": "code",
   "execution_count": 21,
   "id": "5190cf95-cfc4-4163-9364-8c3360cbf075",
   "metadata": {},
   "outputs": [],
   "source": [
    "vectorstore_from_directory.delete(\"d3471cfb-fd42-4761-b1fa-00965fc56adc\")"
   ]
  },
  {
   "cell_type": "code",
   "execution_count": 22,
   "id": "799bd749-75b3-4059-a98b-6a20b0c68015",
   "metadata": {},
   "outputs": [
    {
     "data": {
      "text/plain": [
       "{'ids': [],\n",
       " 'embeddings': None,\n",
       " 'documents': [],\n",
       " 'uris': None,\n",
       " 'included': ['metadatas', 'documents'],\n",
       " 'data': None,\n",
       " 'metadatas': []}"
      ]
     },
     "execution_count": 22,
     "metadata": {},
     "output_type": "execute_result"
    }
   ],
   "source": [
    "vectorstore_from_directory.get(\"d3471cfb-fd42-4761-b1fa-00965fc56adc\")"
   ]
  },
  {
   "cell_type": "code",
   "execution_count": null,
   "id": "7ef8a1c1-6cbd-4ffa-bd26-52a4d4d6c4e5",
   "metadata": {},
   "outputs": [],
   "source": []
  }
 ],
 "metadata": {
  "kernelspec": {
   "display_name": "langchain_env",
   "language": "python",
   "name": "langchain_env"
  },
  "language_info": {
   "codemirror_mode": {
    "name": "ipython",
    "version": 3
   },
   "file_extension": ".py",
   "mimetype": "text/x-python",
   "name": "python",
   "nbconvert_exporter": "python",
   "pygments_lexer": "ipython3",
   "version": "3.10.10"
  }
 },
 "nbformat": 4,
 "nbformat_minor": 5
}

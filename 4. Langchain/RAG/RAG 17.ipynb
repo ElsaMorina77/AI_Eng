{
 "cells": [
  {
   "cell_type": "code",
   "execution_count": 1,
   "id": "380c10d9-9c81-4ae0-9c48-893244cc3d66",
   "metadata": {},
   "outputs": [],
   "source": [
    "%load_ext dotenv"
   ]
  },
  {
   "cell_type": "code",
   "execution_count": 2,
   "id": "3e69a370-6e50-4157-8a71-4c98f2cd2352",
   "metadata": {},
   "outputs": [],
   "source": [
    "%dotenv"
   ]
  },
  {
   "cell_type": "code",
   "execution_count": 3,
   "id": "de4fed99-747e-4aaa-940d-b211032add4c",
   "metadata": {},
   "outputs": [],
   "source": [
    "from langchain_openai.embeddings import OpenAIEmbeddings\n",
    "from langchain_community.vectorstores import Chroma\n",
    "from langchain_core.prompts import PromptTemplate\n",
    "from langchain_openai import ChatOpenAI\n",
    "from langchain_core.runnables import RunnablePassthrough\n",
    "from langchain_core.runnables import RunnableParallel\n",
    "from langchain_core.output_parsers import StrOutputParser"
   ]
  },
  {
   "cell_type": "code",
   "execution_count": 4,
   "id": "33dd16b4-daa0-4b11-b22f-b1efe273a8f9",
   "metadata": {},
   "outputs": [
    {
     "name": "stderr",
     "output_type": "stream",
     "text": [
      "/var/folders/jw/c29_qvvs3yb90jqlkdbpt4_m0000gn/T/ipykernel_8772/2139955777.py:1: LangChainDeprecationWarning: The class `Chroma` was deprecated in LangChain 0.2.9 and will be removed in 1.0. An updated version of the class exists in the :class:`~langchain-chroma package and should be used instead. To use it run `pip install -U :class:`~langchain-chroma` and import as `from :class:`~langchain_chroma import Chroma``.\n",
      "  vectorstore = Chroma(persist_directory= './intro-to-ds-lectures',\n"
     ]
    }
   ],
   "source": [
    "vectorstore = Chroma(persist_directory= './intro-to-ds-lectures',\n",
    "                    embedding_function= OpenAIEmbeddings(model='text-embedding-ada-002'))"
   ]
  },
  {
   "cell_type": "code",
   "execution_count": 5,
   "id": "01b49c46-06c0-4cbe-bd38-4c039de4c60c",
   "metadata": {},
   "outputs": [
    {
     "data": {
      "text/plain": [
       "21"
      ]
     },
     "execution_count": 5,
     "metadata": {},
     "output_type": "execute_result"
    }
   ],
   "source": [
    "len(vectorstore.get()['documents'])"
   ]
  },
  {
   "cell_type": "code",
   "execution_count": 7,
   "id": "768ca346-6c1f-4ba8-8f4e-c340697db56a",
   "metadata": {},
   "outputs": [],
   "source": [
    "retriever = vectorstore.as_retriever(search_type = 'mmr',\n",
    "                                    search_kwargs = {'k':3, 'lambda_mult': 0.7})"
   ]
  },
  {
   "cell_type": "code",
   "execution_count": 9,
   "id": "cc3f3789-c10c-4320-943c-5d9576e889c1",
   "metadata": {},
   "outputs": [],
   "source": [
    "TEMPLATE = ''' \n",
    "Answer the following question: \n",
    "{question}\n",
    "\n",
    "\n",
    "To answer the question, use only the following context:\n",
    "{context}\n",
    "\n",
    "\n",
    "At the end of the response, specify the name of the lecture this context is taken from in the format:\n",
    "Resources: *Lecture Title*\n",
    "where *Lecture Title* should be substituted with the title of all resource lectures. \n",
    "'''\n",
    "\n",
    "\n",
    "prompt_template = PromptTemplate.from_template(TEMPLATE)"
   ]
  },
  {
   "cell_type": "code",
   "execution_count": 10,
   "id": "46e9b05f-e300-4c1f-9ed3-f6bdf05ea2d5",
   "metadata": {},
   "outputs": [
    {
     "name": "stderr",
     "output_type": "stream",
     "text": [
      "/opt/anaconda3/envs/langchain_env/lib/python3.10/site-packages/IPython/core/interactiveshell.py:3519: UserWarning: Parameters {'seed'} should be specified explicitly. Instead they were passed in as part of `model_kwargs` parameter.\n",
      "  if await self.run_code(code, result, async_=asy):\n"
     ]
    }
   ],
   "source": [
    "chat = ChatOpenAI(model_name = 'gpt-4',\n",
    "                 model_kwargs={'seed': 365},\n",
    "                 max_tokens = 250)"
   ]
  },
  {
   "cell_type": "code",
   "execution_count": 11,
   "id": "c60596a3-2f5e-4973-a699-7e56889be938",
   "metadata": {},
   "outputs": [],
   "source": [
    "question = \"What software do data scientists use?\""
   ]
  },
  {
   "cell_type": "code",
   "execution_count": 17,
   "id": "66e884c3-d2e8-4e04-85dc-a986b9f3f1e6",
   "metadata": {},
   "outputs": [],
   "source": [
    "chain = {'context': retriever, \n",
    "         'question': RunnablePassthrough()} | prompt_template"
   ]
  },
  {
   "cell_type": "code",
   "execution_count": 18,
   "id": "22c80303-3fee-45b4-b9f4-27c1100ff249",
   "metadata": {},
   "outputs": [
    {
     "data": {
      "text/plain": [
       "StringPromptValue(text=\" \\nAnswer the following question: \\nWhat software do data scientists use?\\n\\n\\nTo answer the question, use only the following context:\\n[Document(metadata={'Course Title': 'Introduction to Data and Data Science', 'Lecture Title': 'Programming Languages & Software Employed in Data Science - All the Tools You Need'}, page_content='As you can see from the infographic, R, and Python are the two most popular tools across all columns. Their biggest advantage is that they can manipulate data and are integrated within multiple data and data science software platforms. They are not just suitable for mathematical and statistical computations. In other words, R, and Python are adaptable. They can solve a wide variety of business and data-related problems from beginning to the end'), Document(metadata={'Course Title': 'Introduction to Data and Data Science', 'Lecture Title': 'Programming Languages & Software Employed in Data Science - All the Tools You Need'}, page_content='It’s actually a software framework which was designed to address the complexity of big data and its computational intensity. Most notably, Hadoop distributes the computational tasks on multiple computers which is basically the way to handle big data nowadays. Power BI, SaS, Qlik, and especially Tableau are top-notch examples of software designed for business intelligence visualizations'), Document(metadata={'Course Title': 'Introduction to Data and Data Science', 'Lecture Title': 'Programming Languages & Software Employed in Data Science - All the Tools You Need'}, page_content='Great! We hope we gave you a good idea about the level of applicability of the most frequently used programming and software tools in the field of data science. Thank you for watching!')]\\n\\n\\nAt the end of the response, specify the name of the lecture this context is taken from in the format:\\nResources: *Lecture Title*\\nwhere *Lecture Title* should be substituted with the title of all resource lectures. \\n\")"
      ]
     },
     "execution_count": 18,
     "metadata": {},
     "output_type": "execute_result"
    }
   ],
   "source": [
    "chain.invoke(question)"
   ]
  },
  {
   "cell_type": "code",
   "execution_count": 20,
   "id": "1aa6e124-61bd-44e8-ba9e-1b83a923e6e8",
   "metadata": {},
   "outputs": [
    {
     "name": "stdout",
     "output_type": "stream",
     "text": [
      "\n",
      "Answer the following question: \n",
      "What software do data scientists use?\n",
      "\n",
      "\n",
      "To answer the question, use only the following context:\n",
      "[Document(metadata={'Course Title': 'Introduction to Data and Data Science', 'Lecture Title': 'Programming Languages & Software Employed in Data Science - All the Tools You Need'}, page_content='As you can see from the infographic, R, and Python are the two most popular tools across all columns. Their biggest advantage is that they can manipulate data and are integrated within multiple data and data science software platforms. They are not just suitable for mathematical and statistical computations. In other words, R, and Python are adaptable. They can solve a wide variety of business and data-related problems from beginning to the end'), Document(metadata={'Course Title': 'Introduction to Data and Data Science', 'Lecture Title': 'Programming Languages & Software Employed in Data Science - All the Tools You Need'}, page_content='It’s actually a software framework which was designed to address the complexity of big data and its computational intensity. Most notably, Hadoop distributes the computational tasks on multiple computers which is basically the way to handle big data nowadays. Power BI, SaS, Qlik, and especially Tableau are top-notch examples of software designed for business intelligence visualizations'), Document(metadata={'Course Title': 'Introduction to Data and Data Science', 'Lecture Title': 'Programming Languages & Software Employed in Data Science - All the Tools You Need'}, page_content='Great! We hope we gave you a good idea about the level of applicability of the most frequently used programming and software tools in the field of data science. Thank you for watching!')]\n",
      "\n",
      "\n",
      "At the end of the response, specify the name of the lecture this context is taken from in the format:\n",
      "Resources: *Lecture Title*\n",
      "where *Lecture Title* should be substituted with the title of all resource lectures. \n",
      "\n"
     ]
    }
   ],
   "source": [
    "print(\"\\nAnswer the following question: \\nWhat software do data scientists use?\\n\\n\\nTo answer the question, use only the following context:\\n[Document(metadata={'Course Title': 'Introduction to Data and Data Science', 'Lecture Title': 'Programming Languages & Software Employed in Data Science - All the Tools You Need'}, page_content='As you can see from the infographic, R, and Python are the two most popular tools across all columns. Their biggest advantage is that they can manipulate data and are integrated within multiple data and data science software platforms. They are not just suitable for mathematical and statistical computations. In other words, R, and Python are adaptable. They can solve a wide variety of business and data-related problems from beginning to the end'), Document(metadata={'Course Title': 'Introduction to Data and Data Science', 'Lecture Title': 'Programming Languages & Software Employed in Data Science - All the Tools You Need'}, page_content='It’s actually a software framework which was designed to address the complexity of big data and its computational intensity. Most notably, Hadoop distributes the computational tasks on multiple computers which is basically the way to handle big data nowadays. Power BI, SaS, Qlik, and especially Tableau are top-notch examples of software designed for business intelligence visualizations'), Document(metadata={'Course Title': 'Introduction to Data and Data Science', 'Lecture Title': 'Programming Languages & Software Employed in Data Science - All the Tools You Need'}, page_content='Great! We hope we gave you a good idea about the level of applicability of the most frequently used programming and software tools in the field of data science. Thank you for watching!')]\\n\\n\\nAt the end of the response, specify the name of the lecture this context is taken from in the format:\\nResources: *Lecture Title*\\nwhere *Lecture Title* should be substituted with the title of all resource lectures. \\n\")"
   ]
  },
  {
   "cell_type": "code",
   "execution_count": null,
   "id": "8d6fcc35-61a7-4c2e-9b9f-7aff80c81bdc",
   "metadata": {},
   "outputs": [],
   "source": []
  }
 ],
 "metadata": {
  "kernelspec": {
   "display_name": "langchain_env",
   "language": "python",
   "name": "langchain_env"
  },
  "language_info": {
   "codemirror_mode": {
    "name": "ipython",
    "version": 3
   },
   "file_extension": ".py",
   "mimetype": "text/x-python",
   "name": "python",
   "nbconvert_exporter": "python",
   "pygments_lexer": "ipython3",
   "version": "3.10.10"
  }
 },
 "nbformat": 4,
 "nbformat_minor": 5
}

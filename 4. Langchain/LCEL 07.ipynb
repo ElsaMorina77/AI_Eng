{
 "cells": [
  {
   "cell_type": "markdown",
   "id": "9a2c99ff-0668-44fa-9a4b-89397d9a9321",
   "metadata": {},
   "source": [
    "RunnableParallel"
   ]
  },
  {
   "cell_type": "code",
   "execution_count": 2,
   "id": "447c5ba3-c8dc-42a1-b5b9-573012bd9a47",
   "metadata": {},
   "outputs": [],
   "source": [
    "%load_ext dotenv"
   ]
  },
  {
   "cell_type": "code",
   "execution_count": 3,
   "id": "b1c8a412-7566-4f4d-8201-750189fcace7",
   "metadata": {},
   "outputs": [],
   "source": [
    "%dotenv"
   ]
  },
  {
   "cell_type": "code",
   "execution_count": 4,
   "id": "3dc562b4-f805-412c-a557-9151896c5f24",
   "metadata": {},
   "outputs": [],
   "source": [
    "from langchain_core.prompts import ChatPromptTemplate\n",
    "from langchain_openai import ChatOpenAI\n",
    "from langchain_core.output_parsers import StrOutputParser\n",
    "from langchain_core.runnables import RunnableParallel"
   ]
  },
  {
   "cell_type": "code",
   "execution_count": 13,
   "id": "b15ace3a-9392-4be8-a5be-66f5e4d36922",
   "metadata": {},
   "outputs": [],
   "source": [
    "chat_template_books = ChatPromptTemplate.from_template('''\n",
    "Suggest three of the best intermediate-level {programming language} books.\n",
    "Answer only by listing the books.\n",
    "''')\n",
    "\n",
    "\n",
    "chat_template_projects = ChatPromptTemplate.from_template('''\n",
    "Suggest three interesting {programming language} projects suitable for intermediate-level programmers. \n",
    "Answer only by listing the projects.\n",
    "''')"
   ]
  },
  {
   "cell_type": "code",
   "execution_count": 14,
   "id": "c3b0bf4f-1784-4cff-91df-b6c9a5d9840d",
   "metadata": {},
   "outputs": [
    {
     "name": "stderr",
     "output_type": "stream",
     "text": [
      "/opt/anaconda3/envs/langchain_env/lib/python3.10/site-packages/IPython/core/interactiveshell.py:3519: UserWarning: Parameters {'seed'} should be specified explicitly. Instead they were passed in as part of `model_kwargs` parameter.\n",
      "  if await self.run_code(code, result, async_=asy):\n"
     ]
    }
   ],
   "source": [
    "chat = ChatOpenAI(\n",
    "    model_name = 'gpt-4',\n",
    "    model_kwargs = {'seed':365},\n",
    "    temperature = 0,\n",
    "    max_tokens = 100\n",
    ")"
   ]
  },
  {
   "cell_type": "code",
   "execution_count": 15,
   "id": "88c0fb54-ea98-40e2-97a3-da9b954007fb",
   "metadata": {},
   "outputs": [],
   "source": [
    "string_parser = StrOutputParser()"
   ]
  },
  {
   "cell_type": "code",
   "execution_count": 16,
   "id": "48d8f625-5777-4d72-933e-7bd1a600a539",
   "metadata": {},
   "outputs": [],
   "source": [
    "chain_books = chat_template_books | chat | string_parser\n",
    "\n",
    "chain_projects = chat_template_projects | chat | string_parser"
   ]
  },
  {
   "cell_type": "code",
   "execution_count": 17,
   "id": "fbaa137e-375e-4be3-8a35-3d3f91aed1b7",
   "metadata": {},
   "outputs": [],
   "source": [
    "chain_parallel = RunnableParallel({'books': chain_books, 'projects': chain_projects})"
   ]
  },
  {
   "cell_type": "code",
   "execution_count": 18,
   "id": "1e615079-37e6-4dd4-8e69-498c37294b88",
   "metadata": {},
   "outputs": [
    {
     "data": {
      "text/plain": [
       "{'books': '1. \"Fluent Python: Clear, Concise, and Effective Programming\" by Luciano Ramalho\\n2. \"Python Cookbook: Recipes for Mastering Python 3\" by David Beazley and Brian K. Jones\\n3. \"Effective Python: 90 Specific Ways to Write Better Python\" by Brett Slatkin',\n",
       " 'projects': '1. Building a Web Scraper using BeautifulSoup\\n2. Developing a simple Machine Learning model using Scikit-learn\\n3. Creating a GUI application with Tkinter'}"
      ]
     },
     "execution_count": 18,
     "metadata": {},
     "output_type": "execute_result"
    }
   ],
   "source": [
    "chain_parallel.invoke({'programming language': 'Python'})"
   ]
  },
  {
   "cell_type": "code",
   "execution_count": 20,
   "id": "cd30b812-bf3a-4154-baa4-c9b3dd94a29c",
   "metadata": {},
   "outputs": [
    {
     "name": "stdout",
     "output_type": "stream",
     "text": [
      "            +-------------------------------+              \n",
      "            | Parallel<books,projects>Input |              \n",
      "            +-------------------------------+              \n",
      "                   ***               ***                   \n",
      "                ***                     ***                \n",
      "              **                           **              \n",
      "+--------------------+              +--------------------+ \n",
      "| ChatPromptTemplate |              | ChatPromptTemplate | \n",
      "+--------------------+              +--------------------+ \n",
      "           *                                   *           \n",
      "           *                                   *           \n",
      "           *                                   *           \n",
      "    +------------+                      +------------+     \n",
      "    | ChatOpenAI |                      | ChatOpenAI |     \n",
      "    +------------+                      +------------+     \n",
      "           *                                   *           \n",
      "           *                                   *           \n",
      "           *                                   *           \n",
      "  +-----------------+                 +-----------------+  \n",
      "  | StrOutputParser |                 | StrOutputParser |  \n",
      "  +-----------------+                 +-----------------+  \n",
      "                   ***               ***                   \n",
      "                      ***         ***                      \n",
      "                         **     **                         \n",
      "            +--------------------------------+             \n",
      "            | Parallel<books,projects>Output |             \n",
      "            +--------------------------------+             \n"
     ]
    }
   ],
   "source": [
    "chain_parallel.get_graph().print_ascii()"
   ]
  },
  {
   "cell_type": "code",
   "execution_count": 24,
   "id": "16bcb48f-6d60-441e-bdcf-3136d89bb3fb",
   "metadata": {},
   "outputs": [],
   "source": [
    "## using the %%time, compared the time it takes the chains individualy and in parallel. of course in parallel takes less walltime"
   ]
  },
  {
   "cell_type": "code",
   "execution_count": null,
   "id": "85a11976-32bb-4b1a-816e-b967e5fc0686",
   "metadata": {},
   "outputs": [],
   "source": []
  }
 ],
 "metadata": {
  "kernelspec": {
   "display_name": "langchain_env",
   "language": "python",
   "name": "langchain_env"
  },
  "language_info": {
   "codemirror_mode": {
    "name": "ipython",
    "version": 3
   },
   "file_extension": ".py",
   "mimetype": "text/x-python",
   "name": "python",
   "nbconvert_exporter": "python",
   "pygments_lexer": "ipython3",
   "version": "3.10.10"
  }
 },
 "nbformat": 4,
 "nbformat_minor": 5
}
